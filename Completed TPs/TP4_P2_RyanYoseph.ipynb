{
  "nbformat": 4,
  "nbformat_minor": 0,
  "metadata": {
    "kernelspec": {
      "name": "python3",
      "display_name": "Python 3"
    },
    "language_info": {
      "codemirror_mode": {
        "name": "ipython",
        "version": 3
      },
      "file_extension": ".py",
      "mimetype": "text/x-python",
      "name": "python",
      "nbconvert_exporter": "python",
      "pygments_lexer": "ipython3",
      "version": "3.6.5"
    },
    "colab": {
      "name": "TP4_P2_EmmaKantola.ipynb",
      "provenance": [],
      "collapsed_sections": []
    },
    "accelerator": "GPU"
  },
  "cells": [
    {
      "cell_type": "code",
      "metadata": {
        "id": "chCYFPXTEqKI",
        "colab_type": "code",
        "outputId": "2af5ad76-8ef0-43ca-edab-113919b123b7",
        "colab": {
          "base_uri": "https://localhost:8080/",
          "height": 52
        }
      },
      "source": [
        "%tensorflow_version 1.x\n",
        "import tensorflow\n",
        "print(tensorflow.__version__)\n",
        "\n",
        "import keras\n",
        "keras.__version__"
      ],
      "execution_count": 0,
      "outputs": [
        {
          "output_type": "stream",
          "text": [
            "1.15.2\n"
          ],
          "name": "stdout"
        },
        {
          "output_type": "execute_result",
          "data": {
            "text/plain": [
              "'2.3.1'"
            ]
          },
          "metadata": {
            "tags": []
          },
          "execution_count": 8
        }
      ]
    },
    {
      "cell_type": "code",
      "metadata": {
        "id": "kpu4giMAPfRX",
        "colab_type": "code",
        "outputId": "dacee4ea-00cc-4b9d-8e87-c9ce9078ef3e",
        "colab": {
          "base_uri": "https://localhost:8080/",
          "height": 35
        }
      },
      "source": [
        "import os, shutil\n",
        "\n",
        "from google.colab import drive\n",
        "\n",
        "# This will prompt for authorization.\n",
        "drive.mount('/content/drive')"
      ],
      "execution_count": 0,
      "outputs": [
        {
          "output_type": "stream",
          "text": [
            "Drive already mounted at /content/drive; to attempt to forcibly remount, call drive.mount(\"/content/drive\", force_remount=True).\n"
          ],
          "name": "stdout"
        }
      ]
    },
    {
      "cell_type": "markdown",
      "metadata": {
        "id": "EJcTrIA4mvVR",
        "colab_type": "text"
      },
      "source": [
        "# 2. Using a pre-trained convnet: transfer learning\n",
        "\n",
        "A pre-trained network is simply a saved network previously trained on a large dataset. If this original \n",
        "dataset is large enough and general enough, then the spatial feature learned by the pre-trained network can effectively act as a generic model of our visual world, and hence its features can prove useful for many different computer vision problems.\n",
        "\n",
        "In our case, we will consider a large convnet trained on ImageNet and we will use the VGG16 architecture.\n",
        "\n",
        "There are two ways to leverage a pre-trained network: *feature extraction* and *fine-tuning*. \n",
        "\n",
        "---\n",
        "\n"
      ]
    },
    {
      "cell_type": "markdown",
      "metadata": {
        "id": "-fl-qsi1mvVS",
        "colab_type": "text"
      },
      "source": [
        "## 2.1. Feature extraction\n",
        "\n",
        "Feature extraction consists of using the representations learned by a previous network to extract interesting features from new samples. \n",
        "\n",
        "Convnets used for image classification comprise two parts: they start with a series of pooling and convolution \n",
        "layers, and they end with a densely-connected classifier. The first part is called the \"convolutional base\" of the model. In the case of \n",
        "convnets, \"feature extraction\" simply consists of taking the convolutional base of a previously-trained network, running the new data through it, and training a new classifier on top of the output.\n",
        "\n",
        "![swapping FC classifiers](https://s3.amazonaws.com/book.keras.io/img/ch5/swapping_fc_classifier.png)\n",
        "\n",
        "<font color ='red'> Why only reuse the convolutional base? Could we reuse the densely-connected classifier as well? </font>\n",
        "\n",
        "The reason why we only reuse the convolutional base is because the convolutional base netowrk contains generic features for classifying pictures, therefore it applies to different applications of classifying pictures. We cannot reuse the densely-connected classifier because part of the pretrained model is specific to the original classification task, and specific to the set of classes on which the model was trained. Thus, the densely-connected classifier is not as generic and cannot be reused like the convolutional base. \n",
        "\n"
      ]
    },
    {
      "cell_type": "markdown",
      "metadata": {
        "id": "GY75GXHVmvVS",
        "colab_type": "text"
      },
      "source": [
        "Let's instantiate the VGG16 model:"
      ]
    },
    {
      "cell_type": "code",
      "metadata": {
        "id": "wdF1uRbImvVT",
        "colab_type": "code",
        "colab": {}
      },
      "source": [
        "from keras.applications import VGG16\n",
        "\n",
        "conv_base = VGG16(weights='imagenet',\n",
        "                  include_top=False,\n",
        "                  input_shape=(150, 150, 3))"
      ],
      "execution_count": 0,
      "outputs": []
    },
    {
      "cell_type": "markdown",
      "metadata": {
        "id": "BWXD5fwfmvVV",
        "colab_type": "text"
      },
      "source": [
        "We passed three arguments to the constructor:\n",
        "\n",
        "* `weights`, to specify which weight checkpoint to initialize the model from\n",
        "* `include_top`, which refers to including or not the densely-connected classifier on top of the network. By default, this densely-connected classifier would correspond to the 1000 classes from ImageNet. Since we intend to use our own densely-connected classifier (with only two classes, cat and dog), we don't need to include it.\n",
        "* `input_shape`, the shape of the image tensors that we will feed to the network. This argument is purely optional: if we don't pass it, then the network will be able to process inputs of any size.\n",
        "\n",
        "Let's have a look at the VGG models with its numbers of parameters."
      ]
    },
    {
      "cell_type": "code",
      "metadata": {
        "id": "7uoapUYLmvVW",
        "colab_type": "code",
        "outputId": "04aa4dd4-794d-4ec4-e2d4-de4c13b340be",
        "colab": {
          "base_uri": "https://localhost:8080/",
          "height": 827
        }
      },
      "source": [
        "conv_base.summary()"
      ],
      "execution_count": 0,
      "outputs": [
        {
          "output_type": "stream",
          "text": [
            "Model: \"vgg16\"\n",
            "_________________________________________________________________\n",
            "Layer (type)                 Output Shape              Param #   \n",
            "=================================================================\n",
            "input_2 (InputLayer)         (None, 150, 150, 3)       0         \n",
            "_________________________________________________________________\n",
            "block1_conv1 (Conv2D)        (None, 150, 150, 64)      1792      \n",
            "_________________________________________________________________\n",
            "block1_conv2 (Conv2D)        (None, 150, 150, 64)      36928     \n",
            "_________________________________________________________________\n",
            "block1_pool (MaxPooling2D)   (None, 75, 75, 64)        0         \n",
            "_________________________________________________________________\n",
            "block2_conv1 (Conv2D)        (None, 75, 75, 128)       73856     \n",
            "_________________________________________________________________\n",
            "block2_conv2 (Conv2D)        (None, 75, 75, 128)       147584    \n",
            "_________________________________________________________________\n",
            "block2_pool (MaxPooling2D)   (None, 37, 37, 128)       0         \n",
            "_________________________________________________________________\n",
            "block3_conv1 (Conv2D)        (None, 37, 37, 256)       295168    \n",
            "_________________________________________________________________\n",
            "block3_conv2 (Conv2D)        (None, 37, 37, 256)       590080    \n",
            "_________________________________________________________________\n",
            "block3_conv3 (Conv2D)        (None, 37, 37, 256)       590080    \n",
            "_________________________________________________________________\n",
            "block3_pool (MaxPooling2D)   (None, 18, 18, 256)       0         \n",
            "_________________________________________________________________\n",
            "block4_conv1 (Conv2D)        (None, 18, 18, 512)       1180160   \n",
            "_________________________________________________________________\n",
            "block4_conv2 (Conv2D)        (None, 18, 18, 512)       2359808   \n",
            "_________________________________________________________________\n",
            "block4_conv3 (Conv2D)        (None, 18, 18, 512)       2359808   \n",
            "_________________________________________________________________\n",
            "block4_pool (MaxPooling2D)   (None, 9, 9, 512)         0         \n",
            "_________________________________________________________________\n",
            "block5_conv1 (Conv2D)        (None, 9, 9, 512)         2359808   \n",
            "_________________________________________________________________\n",
            "block5_conv2 (Conv2D)        (None, 9, 9, 512)         2359808   \n",
            "_________________________________________________________________\n",
            "block5_conv3 (Conv2D)        (None, 9, 9, 512)         2359808   \n",
            "_________________________________________________________________\n",
            "block5_pool (MaxPooling2D)   (None, 4, 4, 512)         0         \n",
            "=================================================================\n",
            "Total params: 14,714,688\n",
            "Trainable params: 14,714,688\n",
            "Non-trainable params: 0\n",
            "_________________________________________________________________\n"
          ],
          "name": "stdout"
        }
      ]
    },
    {
      "cell_type": "markdown",
      "metadata": {
        "id": "xgxfy2pQmvVX",
        "colab_type": "text"
      },
      "source": [
        "The final feature map has shape `(4, 4, 512)`. That's the feature on top of which we will stick a densely-connected classifier.\n",
        "\n",
        "There are two ways we could proceed: \n",
        "\n",
        "* Running the convolutional base over our dataset, recording its output to a Numpy array on disk, then using this data as input to a standalone densely-connected classifier . This solution is very fast and cheap to run. However, this technique would not allow us to leverage data augmentation at all.\n",
        "\n",
        "* Extending the model we have (`conv_base`) by adding `Dense` layers on top, and running the whole thing end-to-end on the input data. This allows us to use data augmentation. However, for this same reason, this technique is far more expensive than the first one.\n",
        "\n",
        "We will cover both techniques. \n",
        "\n",
        "###2.1.1. Technique 1\n",
        "\n",
        "We will start by running instances of the previously-introduced `ImageDataGenerator` to extract images and their labels."
      ]
    },
    {
      "cell_type": "code",
      "metadata": {
        "id": "EdyZgAln-V4V",
        "colab_type": "code",
        "outputId": "efca43a3-79fa-4eca-d699-77d346de15e9",
        "colab": {
          "base_uri": "https://localhost:8080/",
          "height": 459
        }
      },
      "source": [
        "!wget https://www.dropbox.com/s/i2rikoreagea5ky/dog-cat-small.zip?dl=0 \\\n",
        "    -O /content/drive/My\\ Drive/dog-cat-small.zip\n"
      ],
      "execution_count": 0,
      "outputs": [
        {
          "output_type": "stream",
          "text": [
            "--2020-04-18 03:34:05--  https://www.dropbox.com/s/i2rikoreagea5ky/dog-cat-small.zip?dl=0\n",
            "Resolving www.dropbox.com (www.dropbox.com)... 162.125.65.1, 2620:100:6021:1::a27d:4101\n",
            "Connecting to www.dropbox.com (www.dropbox.com)|162.125.65.1|:443... connected.\n",
            "HTTP request sent, awaiting response... 301 Moved Permanently\n",
            "Location: /s/raw/i2rikoreagea5ky/dog-cat-small.zip [following]\n",
            "--2020-04-18 03:34:05--  https://www.dropbox.com/s/raw/i2rikoreagea5ky/dog-cat-small.zip\n",
            "Reusing existing connection to www.dropbox.com:443.\n",
            "HTTP request sent, awaiting response... 302 Found\n",
            "Location: https://uc6aab61af49245aef94b74b26ee.dl.dropboxusercontent.com/cd/0/inline/A2CbFXIZsHDwsnd57sobp056qM8bMqvAyz_g5ukEKbAIqS-faoQOPOq0exxC8K02e8FXPWjNSEkMvbhO-mGPmotNrWBTnClVM5-naj4UHW8jk8nRXCZsgz0P8J_VPrC51GM/file# [following]\n",
            "--2020-04-18 03:34:05--  https://uc6aab61af49245aef94b74b26ee.dl.dropboxusercontent.com/cd/0/inline/A2CbFXIZsHDwsnd57sobp056qM8bMqvAyz_g5ukEKbAIqS-faoQOPOq0exxC8K02e8FXPWjNSEkMvbhO-mGPmotNrWBTnClVM5-naj4UHW8jk8nRXCZsgz0P8J_VPrC51GM/file\n",
            "Resolving uc6aab61af49245aef94b74b26ee.dl.dropboxusercontent.com (uc6aab61af49245aef94b74b26ee.dl.dropboxusercontent.com)... 162.125.65.6, 2620:100:6021:6::a27d:4106\n",
            "Connecting to uc6aab61af49245aef94b74b26ee.dl.dropboxusercontent.com (uc6aab61af49245aef94b74b26ee.dl.dropboxusercontent.com)|162.125.65.6|:443... connected.\n",
            "HTTP request sent, awaiting response... 302 FOUND\n",
            "Location: /cd/0/inline2/A2CmRTTMyEayrCaiOeeLwgb0oCApckeNlP1Jv6qOBtAdVtjEMuj46LVISXKVz-mdKOBCMXGoXusxK9Akf3n-h5CfRUWGW_nXPLujDuf5ALiCh6nJgrQWbyMdAhVP7EK38T3GKFqE7x3YmA5RLimjLhANIyO8hA0dIBMeAzjwcJNfFjHTjshWj90nQVN5FAVMGlXvvQj9A3jzf0TeTzQKrmKbA5kfA1xATmYToHk6P_nDeod7nHj5IAJR020NVgLgoBnJkG92AAcvLmX3qyd9coSDyf-QjiyReUEMBnx2a9ZtRQvOwjae0FONy4xP8-7Q4IZowb6lv94kuEtGAptt2B_4PFcXbM8LVlHjdSAUUzzfKQ/file [following]\n",
            "--2020-04-18 03:34:06--  https://uc6aab61af49245aef94b74b26ee.dl.dropboxusercontent.com/cd/0/inline2/A2CmRTTMyEayrCaiOeeLwgb0oCApckeNlP1Jv6qOBtAdVtjEMuj46LVISXKVz-mdKOBCMXGoXusxK9Akf3n-h5CfRUWGW_nXPLujDuf5ALiCh6nJgrQWbyMdAhVP7EK38T3GKFqE7x3YmA5RLimjLhANIyO8hA0dIBMeAzjwcJNfFjHTjshWj90nQVN5FAVMGlXvvQj9A3jzf0TeTzQKrmKbA5kfA1xATmYToHk6P_nDeod7nHj5IAJR020NVgLgoBnJkG92AAcvLmX3qyd9coSDyf-QjiyReUEMBnx2a9ZtRQvOwjae0FONy4xP8-7Q4IZowb6lv94kuEtGAptt2B_4PFcXbM8LVlHjdSAUUzzfKQ/file\n",
            "Reusing existing connection to uc6aab61af49245aef94b74b26ee.dl.dropboxusercontent.com:443.\n",
            "HTTP request sent, awaiting response... 200 OK\n",
            "Length: 91060133 (87M) [application/zip]\n",
            "Saving to: ‘/content/drive/My Drive/dog-cat-small.zip’\n",
            "\n",
            "/content/drive/My D 100%[===================>]  86.84M  47.1MB/s    in 1.8s    \n",
            "\n",
            "2020-04-18 03:34:09 (47.1 MB/s) - ‘/content/drive/My Drive/dog-cat-small.zip’ saved [91060133/91060133]\n",
            "\n"
          ],
          "name": "stdout"
        }
      ]
    },
    {
      "cell_type": "code",
      "metadata": {
        "id": "XoB516QjY2U3",
        "colab_type": "code",
        "colab": {}
      },
      "source": [
        "import zipfile\n",
        "\n",
        "local_zip = '/content/drive/My Drive/dog-cat-small.zip'\n",
        "zip_ref = zipfile.ZipFile(local_zip, 'r')\n",
        "zip_ref.extractall('/content/drive/My Drive/dog-cat-small')\n",
        "zip_ref.close()"
      ],
      "execution_count": 0,
      "outputs": []
    },
    {
      "cell_type": "code",
      "metadata": {
        "colab_type": "code",
        "outputId": "33d75b3c-0a37-4c95-f543-12435aac9a8a",
        "id": "PfCgeW7tWIx4",
        "colab": {
          "base_uri": "https://localhost:8080/",
          "height": 70
        }
      },
      "source": [
        "import os\n",
        "import numpy as np\n",
        "from keras.preprocessing.image import ImageDataGenerator\n",
        "\n",
        "base_dir = '/content/drive/My Drive/dog-cat-small' #TODO\n",
        "\n",
        "train_dir = os.path.join(base_dir, 'train')\n",
        "validation_dir = os.path.join(base_dir, 'validation')\n",
        "test_dir = os.path.join(base_dir, 'test')\n",
        "\n",
        "datagen = ImageDataGenerator(rescale=1./255)\n",
        "batch_size = 20\n",
        "\n",
        "def extract_features(directory, sample_count):\n",
        "    # TODO\n",
        "    features = np.zeros(shape=(sample_count, 4, 4, 512))\n",
        "    # end TODO\n",
        "    \n",
        "    labels = np.zeros(shape=(sample_count))\n",
        "    generator = datagen.flow_from_directory(\n",
        "        directory,\n",
        "        target_size=(150, 150),\n",
        "        batch_size=batch_size,\n",
        "        class_mode='binary')\n",
        "    i = 0\n",
        "    \n",
        "    for inputs_batch, labels_batch in generator:\n",
        "        # TODO\n",
        "        features_batch = conv_base.predict(inputs_batch)\n",
        "        # end TODO\n",
        "        \n",
        "        features[i * batch_size : (i + 1) * batch_size] = features_batch\n",
        "        labels[i * batch_size : (i + 1) * batch_size] = labels_batch\n",
        "        i += 1\n",
        "        if i * batch_size >= sample_count:\n",
        "            # Note that since generators yield data indefinitely in a loop,\n",
        "            # we must `break` after every image has been seen once.\n",
        "            break\n",
        "    return features, labels\n",
        "\n",
        "train_features, train_labels = extract_features(train_dir, 2000)\n",
        "validation_features, validation_labels = extract_features(validation_dir, 1000)\n",
        "test_features, test_labels = extract_features(test_dir, 1000)"
      ],
      "execution_count": 0,
      "outputs": [
        {
          "output_type": "stream",
          "text": [
            "Found 2000 images belonging to 2 classes.\n",
            "Found 1000 images belonging to 2 classes.\n",
            "Found 1000 images belonging to 2 classes.\n"
          ],
          "name": "stdout"
        }
      ]
    },
    {
      "cell_type": "markdown",
      "metadata": {
        "id": "puYe9RqUmvVa",
        "colab_type": "text"
      },
      "source": [
        "The extracted features are currently of shape `(samples, 4, 4, 512)`. We will feed them to a densely-connected classifier, so first we must \n",
        "flatten them to `(samples, 8192)`:"
      ]
    },
    {
      "cell_type": "code",
      "metadata": {
        "id": "qYgKKQRNmvVa",
        "colab_type": "code",
        "colab": {}
      },
      "source": [
        "train_features = np.reshape(train_features, (2000, 4 * 4 * 512))\n",
        "validation_features = np.reshape(validation_features, (1000, 4 * 4 * 512))\n",
        "test_features = np.reshape(test_features, (1000, 4 * 4 * 512))"
      ],
      "execution_count": 0,
      "outputs": []
    },
    {
      "cell_type": "markdown",
      "metadata": {
        "id": "vs-Ml8r3mvVc",
        "colab_type": "text"
      },
      "source": [
        "At this point, we can define our densely-connected classifier (note the use of dropout for regularization), and train it on the data and \n",
        "labels that we just recorded:"
      ]
    },
    {
      "cell_type": "code",
      "metadata": {
        "id": "P1YE8x0pmvVc",
        "colab_type": "code",
        "outputId": "eda24fbd-b7a5-46c8-b78f-ba170dcd4564",
        "colab": {
          "base_uri": "https://localhost:8080/",
          "height": 1000
        }
      },
      "source": [
        "from keras import models\n",
        "from keras import layers\n",
        "from keras import optimizers\n",
        "\n",
        "model = models.Sequential()\n",
        "\n",
        "\n",
        "# TODO\n",
        "model.add(layers.Dropout(0.5))\n",
        "model.add(layers.Dense(512, activation = 'relu'))\n",
        "model.add(layers.Dense(256, activation = 'relu'))\n",
        "model.add(layers.Dense(128, activation = 'relu'))\n",
        "model.add(layers.Dense(1, activation='sigmoid'))\n",
        "# end TODO\n",
        "        \n",
        "\n",
        "\n",
        "model.compile(optimizer=optimizers.RMSprop(lr=2e-5),\n",
        "              loss='binary_crossentropy',\n",
        "              metrics=['acc'])\n",
        "\n",
        "history = model.fit(train_features, train_labels,\n",
        "                    epochs=30,\n",
        "                    batch_size=20,\n",
        "                    validation_data=(validation_features, validation_labels))"
      ],
      "execution_count": 0,
      "outputs": [
        {
          "output_type": "stream",
          "text": [
            "Train on 2000 samples, validate on 1000 samples\n",
            "Epoch 1/30\n",
            "2000/2000 [==============================] - 1s 457us/step - loss: 0.6068 - acc: 0.6645 - val_loss: 0.4608 - val_acc: 0.8300\n",
            "Epoch 2/30\n",
            "2000/2000 [==============================] - 1s 332us/step - loss: 0.4592 - acc: 0.8000 - val_loss: 0.3573 - val_acc: 0.8630\n",
            "Epoch 3/30\n",
            "2000/2000 [==============================] - 1s 322us/step - loss: 0.3592 - acc: 0.8485 - val_loss: 0.3070 - val_acc: 0.8730\n",
            "Epoch 4/30\n",
            "2000/2000 [==============================] - 1s 328us/step - loss: 0.3312 - acc: 0.8620 - val_loss: 0.2843 - val_acc: 0.8870\n",
            "Epoch 5/30\n",
            "2000/2000 [==============================] - 1s 319us/step - loss: 0.2963 - acc: 0.8775 - val_loss: 0.2676 - val_acc: 0.8900\n",
            "Epoch 6/30\n",
            "2000/2000 [==============================] - 1s 323us/step - loss: 0.2722 - acc: 0.8815 - val_loss: 0.2624 - val_acc: 0.9000\n",
            "Epoch 7/30\n",
            "2000/2000 [==============================] - 1s 324us/step - loss: 0.2452 - acc: 0.9010 - val_loss: 0.2665 - val_acc: 0.8900\n",
            "Epoch 8/30\n",
            "2000/2000 [==============================] - 1s 326us/step - loss: 0.2305 - acc: 0.9070 - val_loss: 0.2591 - val_acc: 0.8950\n",
            "Epoch 9/30\n",
            "2000/2000 [==============================] - 1s 324us/step - loss: 0.2244 - acc: 0.9125 - val_loss: 0.2492 - val_acc: 0.9010\n",
            "Epoch 10/30\n",
            "2000/2000 [==============================] - 1s 330us/step - loss: 0.2095 - acc: 0.9220 - val_loss: 0.2462 - val_acc: 0.9020\n",
            "Epoch 11/30\n",
            "2000/2000 [==============================] - 1s 317us/step - loss: 0.2090 - acc: 0.9120 - val_loss: 0.2417 - val_acc: 0.9060\n",
            "Epoch 12/30\n",
            "2000/2000 [==============================] - 1s 347us/step - loss: 0.1848 - acc: 0.9275 - val_loss: 0.2795 - val_acc: 0.8900\n",
            "Epoch 13/30\n",
            "2000/2000 [==============================] - 1s 352us/step - loss: 0.1866 - acc: 0.9245 - val_loss: 0.2541 - val_acc: 0.9050\n",
            "Epoch 14/30\n",
            "2000/2000 [==============================] - 1s 322us/step - loss: 0.1813 - acc: 0.9275 - val_loss: 0.2572 - val_acc: 0.9020\n",
            "Epoch 15/30\n",
            "2000/2000 [==============================] - 1s 334us/step - loss: 0.1707 - acc: 0.9360 - val_loss: 0.2480 - val_acc: 0.9080\n",
            "Epoch 16/30\n",
            "2000/2000 [==============================] - 1s 323us/step - loss: 0.1620 - acc: 0.9330 - val_loss: 0.2664 - val_acc: 0.8990\n",
            "Epoch 17/30\n",
            "2000/2000 [==============================] - 1s 328us/step - loss: 0.1585 - acc: 0.9380 - val_loss: 0.3035 - val_acc: 0.8860\n",
            "Epoch 18/30\n",
            "2000/2000 [==============================] - 1s 327us/step - loss: 0.1554 - acc: 0.9355 - val_loss: 0.2508 - val_acc: 0.9040\n",
            "Epoch 19/30\n",
            "2000/2000 [==============================] - 1s 321us/step - loss: 0.1470 - acc: 0.9455 - val_loss: 0.2577 - val_acc: 0.9060\n",
            "Epoch 20/30\n",
            "2000/2000 [==============================] - 1s 321us/step - loss: 0.1520 - acc: 0.9420 - val_loss: 0.2629 - val_acc: 0.9070\n",
            "Epoch 21/30\n",
            "2000/2000 [==============================] - 1s 326us/step - loss: 0.1402 - acc: 0.9460 - val_loss: 0.2562 - val_acc: 0.9030\n",
            "Epoch 22/30\n",
            "2000/2000 [==============================] - 1s 351us/step - loss: 0.1385 - acc: 0.9465 - val_loss: 0.2730 - val_acc: 0.9000\n",
            "Epoch 23/30\n",
            "2000/2000 [==============================] - 1s 323us/step - loss: 0.1279 - acc: 0.9505 - val_loss: 0.2658 - val_acc: 0.9030\n",
            "Epoch 24/30\n",
            "2000/2000 [==============================] - 1s 331us/step - loss: 0.1312 - acc: 0.9505 - val_loss: 0.2646 - val_acc: 0.9010\n",
            "Epoch 25/30\n",
            "2000/2000 [==============================] - 1s 319us/step - loss: 0.1107 - acc: 0.9595 - val_loss: 0.3245 - val_acc: 0.8860\n",
            "Epoch 26/30\n",
            "2000/2000 [==============================] - 1s 322us/step - loss: 0.1118 - acc: 0.9585 - val_loss: 0.2672 - val_acc: 0.9000\n",
            "Epoch 27/30\n",
            "2000/2000 [==============================] - 1s 324us/step - loss: 0.1147 - acc: 0.9525 - val_loss: 0.3036 - val_acc: 0.8930\n",
            "Epoch 28/30\n",
            "2000/2000 [==============================] - 1s 331us/step - loss: 0.1048 - acc: 0.9565 - val_loss: 0.2749 - val_acc: 0.9010\n",
            "Epoch 29/30\n",
            "2000/2000 [==============================] - 1s 367us/step - loss: 0.1082 - acc: 0.9560 - val_loss: 0.2786 - val_acc: 0.9020\n",
            "Epoch 30/30\n",
            "2000/2000 [==============================] - 1s 338us/step - loss: 0.0967 - acc: 0.9595 - val_loss: 0.2844 - val_acc: 0.9060\n"
          ],
          "name": "stdout"
        }
      ]
    },
    {
      "cell_type": "markdown",
      "metadata": {
        "id": "pZ_Miz7smvVe",
        "colab_type": "text"
      },
      "source": [
        "Training is very fast, since we only have to deal with two `Dense` layers.\n",
        "\n",
        "Let's take a look at the loss and accuracy curves during training:"
      ]
    },
    {
      "cell_type": "code",
      "metadata": {
        "id": "NiHpNDrZmvVe",
        "colab_type": "code",
        "outputId": "22f1a119-905c-415e-c41f-8e753473188a",
        "colab": {
          "base_uri": "https://localhost:8080/",
          "height": 545
        }
      },
      "source": [
        "import matplotlib.pyplot as plt\n",
        "\n",
        "acc = history.history['acc']\n",
        "val_acc = history.history['val_acc']\n",
        "loss = history.history['loss']\n",
        "val_loss = history.history['val_loss']\n",
        "\n",
        "epochs = range(len(acc))\n",
        "\n",
        "plt.plot(epochs, acc, 'bo', label='Training acc')\n",
        "plt.plot(epochs, val_acc, 'b', label='Validation acc')\n",
        "plt.title('Training and validation accuracy')\n",
        "plt.legend()\n",
        "\n",
        "plt.figure()\n",
        "\n",
        "plt.plot(epochs, loss, 'bo', label='Training loss')\n",
        "plt.plot(epochs, val_loss, 'b', label='Validation loss')\n",
        "plt.title('Training and validation loss')\n",
        "plt.legend()\n",
        "\n",
        "plt.show()"
      ],
      "execution_count": 0,
      "outputs": [
        {
          "output_type": "display_data",
          "data": {
            "image/png": "[encoded data removed]",
            "text/plain": [
              "<Figure size 432x288 with 1 Axes>"
            ]
          },
          "metadata": {
            "tags": [],
            "needs_background": "light"
          }
        },
        {
          "output_type": "display_data",
          "data": {
            "image/png": "[encoded data removed]",
            "text/plain": [
              "<Figure size 432x288 with 1 Axes>"
            ]
          },
          "metadata": {
            "tags": [],
            "needs_background": "light"
          }
        }
      ]
    },
    {
      "cell_type": "markdown",
      "metadata": {
        "id": "W6WeCoEFmvVf",
        "colab_type": "text"
      },
      "source": [
        "\n",
        "We reach a validation accuracy of about 90%. However, our plots also indicate that we are overfitting almost from the start. This is because this technique does not leverage data augmentation.\n",
        "\n",
        "###2.1.2. Technique 2\n",
        "\n",
        "This is much slower and more expensive, but which allows \n",
        "us to leverage data augmentation during training: extending the `conv_base` model and running it end-to-end on the inputs. \n",
        "\n",
        "You need to use GPU.\n",
        "\n",
        "So you can do the following:"
      ]
    },
    {
      "cell_type": "code",
      "metadata": {
        "id": "vzB1neMUmvVf",
        "colab_type": "code",
        "colab": {}
      },
      "source": [
        "from keras import models\n",
        "from keras import layers\n",
        "\n",
        "model = models.Sequential()\n",
        "model.add(conv_base)\n",
        "model.add(layers.Flatten())\n",
        "model.add(layers.Dropout(rate = 0.5))\n",
        "model.add(layers.Dense(256, activation='relu'))\n",
        "model.add(layers.Dense(128, activation = 'relu'))\n",
        "model.add(layers.Dense(1, activation='sigmoid'))"
      ],
      "execution_count": 0,
      "outputs": []
    },
    {
      "cell_type": "markdown",
      "metadata": {
        "id": "uVeQTpATmvVh",
        "colab_type": "text"
      },
      "source": [
        "This is what our model looks like now:"
      ]
    },
    {
      "cell_type": "code",
      "metadata": {
        "id": "aPkZ99DpmvVh",
        "colab_type": "code",
        "outputId": "e1f1f232-3ce3-4108-9511-cac4b830fdc2",
        "colab": {
          "base_uri": "https://localhost:8080/",
          "height": 369
        }
      },
      "source": [
        "model.summary()"
      ],
      "execution_count": 0,
      "outputs": [
        {
          "output_type": "stream",
          "text": [
            "Model: \"sequential_16\"\n",
            "_________________________________________________________________\n",
            "Layer (type)                 Output Shape              Param #   \n",
            "=================================================================\n",
            "vgg16 (Model)                (None, 4, 4, 512)         14714688  \n",
            "_________________________________________________________________\n",
            "flatten_13 (Flatten)         (None, 8192)              0         \n",
            "_________________________________________________________________\n",
            "dropout_10 (Dropout)         (None, 8192)              0         \n",
            "_________________________________________________________________\n",
            "dense_58 (Dense)             (None, 256)               2097408   \n",
            "_________________________________________________________________\n",
            "dense_59 (Dense)             (None, 128)               32896     \n",
            "_________________________________________________________________\n",
            "dense_60 (Dense)             (None, 1)                 129       \n",
            "=================================================================\n",
            "Total params: 16,845,121\n",
            "Trainable params: 2,130,433\n",
            "Non-trainable params: 14,714,688\n",
            "_________________________________________________________________\n"
          ],
          "name": "stdout"
        }
      ]
    },
    {
      "cell_type": "markdown",
      "metadata": {
        "id": "kTHSM1RhmvVi",
        "colab_type": "text"
      },
      "source": [
        "As you can see, the convolutional base of VGG16 has 14,714,688 parameters, which is very large. The classifier we are adding on top has 2 \n",
        "million parameters.\n",
        "\n",
        "Before we compile and train our model, a very important thing to do is to freeze the convolutional base. \n",
        "\n",
        "In Keras, freezing a network is done by setting its `trainable` attribute to `False`:"
      ]
    },
    {
      "cell_type": "code",
      "metadata": {
        "id": "0NwfSLhzmvVi",
        "colab_type": "code",
        "outputId": "47fea641-eff1-4992-808e-114e871e2d00",
        "colab": {
          "base_uri": "https://localhost:8080/",
          "height": 35
        }
      },
      "source": [
        "print('This is the number of trainable weights '\n",
        "      'before freezing the conv base:', len(model.trainable_weights))"
      ],
      "execution_count": 0,
      "outputs": [
        {
          "output_type": "stream",
          "text": [
            "This is the number of trainable weights before freezing the conv base: 6\n"
          ],
          "name": "stdout"
        }
      ]
    },
    {
      "cell_type": "code",
      "metadata": {
        "id": "02naPg46mvVj",
        "colab_type": "code",
        "colab": {}
      },
      "source": [
        "conv_base.trainable = False"
      ],
      "execution_count": 0,
      "outputs": []
    },
    {
      "cell_type": "code",
      "metadata": {
        "id": "YjEJiJ2PmvVk",
        "colab_type": "code",
        "outputId": "2299c67b-b680-4adf-ca5f-d7a022ec3b3e",
        "colab": {
          "base_uri": "https://localhost:8080/",
          "height": 35
        }
      },
      "source": [
        "print('This is the number of trainable weights '\n",
        "      'after freezing the conv base:', len(model.trainable_weights))"
      ],
      "execution_count": 0,
      "outputs": [
        {
          "output_type": "stream",
          "text": [
            "This is the number of trainable weights after freezing the conv base: 6\n"
          ],
          "name": "stdout"
        }
      ]
    },
    {
      "cell_type": "markdown",
      "metadata": {
        "id": "MyY7yMd2mvVl",
        "colab_type": "text"
      },
      "source": [
        "With this setup, only the weights from the two `Dense` layers that we added will be trained. That's a total of four weight tensors: two per \n",
        "layer (the main weight matrix and the bias vector). Note that in order for these changes to take effect, we must first compile the model. \n",
        "If you ever modify weight trainability after compilation, you should then re-compile the model, or these changes would be ignored.\n",
        "\n",
        "Now we can start training our model, with the same data augmentation configuration that we used in our previous example:"
      ]
    },
    {
      "cell_type": "code",
      "metadata": {
        "id": "oSiUT7VLbUks",
        "colab_type": "code",
        "colab": {}
      },
      "source": [
        "model.compile(loss='binary_crossentropy',\n",
        "              optimizer=optimizers.RMSprop(lr=2e-5),\n",
        "              metrics=['acc'])"
      ],
      "execution_count": 0,
      "outputs": []
    },
    {
      "cell_type": "code",
      "metadata": {
        "id": "l62o8lKQmvVl",
        "colab_type": "code",
        "outputId": "5c358e35-46ce-4744-e55f-ed5354a092b1",
        "colab": {
          "base_uri": "https://localhost:8080/",
          "height": 1000
        }
      },
      "source": [
        "from keras.preprocessing.image import ImageDataGenerator\n",
        "\n",
        "train_datagen = ImageDataGenerator(\n",
        "      rescale=1./255,\n",
        "      rotation_range=40,\n",
        "      width_shift_range=0.2,\n",
        "      height_shift_range=0.2,\n",
        "      shear_range=0.2,\n",
        "      zoom_range=0.2,\n",
        "      horizontal_flip=True,\n",
        "      fill_mode='nearest')\n",
        "\n",
        "# Note that the validation data should not be augmented!\n",
        "test_datagen = ImageDataGenerator(rescale=1./255)\n",
        "\n",
        "train_generator = train_datagen.flow_from_directory(\n",
        "        # This is the target directory\n",
        "        train_dir,\n",
        "        # All images will be resized to 150x150\n",
        "        target_size=(150, 150),\n",
        "        batch_size=20,\n",
        "        # Since we use binary_crossentropy loss, we need binary labels\n",
        "        class_mode='binary')\n",
        "\n",
        "validation_generator = test_datagen.flow_from_directory(\n",
        "        validation_dir,\n",
        "        target_size=(150, 150),\n",
        "        batch_size=20,\n",
        "        class_mode='binary')\n",
        "\n",
        "model.compile(loss='binary_crossentropy',\n",
        "              optimizer=optimizers.RMSprop(lr=2e-5),\n",
        "              metrics=['acc'])\n",
        "\n",
        "history = model.fit_generator(\n",
        "      train_generator,\n",
        "      steps_per_epoch=100,\n",
        "      epochs=30,\n",
        "      validation_data=validation_generator,\n",
        "      validation_steps=50,\n",
        "      verbose=2)"
      ],
      "execution_count": 0,
      "outputs": [
        {
          "output_type": "stream",
          "text": [
            "Found 2000 images belonging to 2 classes.\n",
            "Found 1000 images belonging to 2 classes.\n",
            "Epoch 1/30\n",
            " - 22s - loss: 0.5727 - acc: 0.7200 - val_loss: 0.3253 - val_acc: 0.8780\n",
            "Epoch 2/30\n",
            " - 20s - loss: 0.3628 - acc: 0.8740 - val_loss: 0.2584 - val_acc: 0.9110\n",
            "Epoch 3/30\n",
            " - 21s - loss: 0.2508 - acc: 0.9200 - val_loss: 0.0818 - val_acc: 0.9130\n",
            "Epoch 4/30\n",
            " - 21s - loss: 0.2076 - acc: 0.9250 - val_loss: 0.2460 - val_acc: 0.9230\n",
            "Epoch 5/30\n",
            " - 20s - loss: 0.1700 - acc: 0.9420 - val_loss: 0.0546 - val_acc: 0.9300\n",
            "Epoch 6/30\n",
            " - 21s - loss: 0.1422 - acc: 0.9490 - val_loss: 0.1852 - val_acc: 0.9340\n",
            "Epoch 7/30\n",
            " - 20s - loss: 0.1214 - acc: 0.9595 - val_loss: 0.0130 - val_acc: 0.9340\n",
            "Epoch 8/30\n",
            " - 21s - loss: 0.1199 - acc: 0.9540 - val_loss: 0.1623 - val_acc: 0.9330\n",
            "Epoch 9/30\n",
            " - 21s - loss: 0.1084 - acc: 0.9600 - val_loss: 0.0497 - val_acc: 0.9340\n",
            "Epoch 10/30\n",
            " - 20s - loss: 0.0952 - acc: 0.9675 - val_loss: 0.2819 - val_acc: 0.9330\n",
            "Epoch 11/30\n",
            " - 21s - loss: 0.0919 - acc: 0.9720 - val_loss: 0.1616 - val_acc: 0.9350\n",
            "Epoch 12/30\n",
            " - 21s - loss: 0.0748 - acc: 0.9740 - val_loss: 0.1422 - val_acc: 0.9350\n",
            "Epoch 13/30\n",
            " - 21s - loss: 0.0821 - acc: 0.9700 - val_loss: 0.5715 - val_acc: 0.9360\n",
            "Epoch 14/30\n",
            " - 20s - loss: 0.0727 - acc: 0.9775 - val_loss: 0.2692 - val_acc: 0.9380\n",
            "Epoch 15/30\n",
            " - 21s - loss: 0.0771 - acc: 0.9690 - val_loss: 0.0667 - val_acc: 0.9350\n",
            "Epoch 16/30\n",
            " - 21s - loss: 0.0751 - acc: 0.9750 - val_loss: 0.1865 - val_acc: 0.9330\n",
            "Epoch 17/30\n",
            " - 20s - loss: 0.0697 - acc: 0.9765 - val_loss: 0.0472 - val_acc: 0.9360\n",
            "Epoch 18/30\n",
            " - 21s - loss: 0.0590 - acc: 0.9810 - val_loss: 0.1150 - val_acc: 0.9340\n",
            "Epoch 19/30\n",
            " - 21s - loss: 0.0646 - acc: 0.9725 - val_loss: 0.1601 - val_acc: 0.9350\n",
            "Epoch 20/30\n",
            " - 20s - loss: 0.0646 - acc: 0.9760 - val_loss: 0.0072 - val_acc: 0.9380\n",
            "Epoch 21/30\n",
            " - 22s - loss: 0.0559 - acc: 0.9780 - val_loss: 0.0293 - val_acc: 0.9390\n",
            "Epoch 22/30\n",
            " - 22s - loss: 0.0697 - acc: 0.9725 - val_loss: 0.1157 - val_acc: 0.9370\n",
            "Epoch 23/30\n",
            " - 20s - loss: 0.0559 - acc: 0.9805 - val_loss: 0.0119 - val_acc: 0.9340\n",
            "Epoch 24/30\n",
            " - 20s - loss: 0.0607 - acc: 0.9765 - val_loss: 0.7019 - val_acc: 0.9360\n",
            "Epoch 25/30\n",
            " - 20s - loss: 0.0597 - acc: 0.9770 - val_loss: 0.0744 - val_acc: 0.9320\n",
            "Epoch 26/30\n",
            " - 20s - loss: 0.0512 - acc: 0.9820 - val_loss: 0.8327 - val_acc: 0.9370\n",
            "Epoch 27/30\n",
            " - 20s - loss: 0.0545 - acc: 0.9785 - val_loss: 0.3731 - val_acc: 0.9360\n",
            "Epoch 28/30\n",
            " - 20s - loss: 0.0464 - acc: 0.9865 - val_loss: 0.0044 - val_acc: 0.9360\n",
            "Epoch 29/30\n",
            " - 20s - loss: 0.0576 - acc: 0.9755 - val_loss: 0.0886 - val_acc: 0.9360\n",
            "Epoch 30/30\n",
            " - 20s - loss: 0.0436 - acc: 0.9835 - val_loss: 0.5451 - val_acc: 0.9370\n"
          ],
          "name": "stdout"
        }
      ]
    },
    {
      "cell_type": "code",
      "metadata": {
        "id": "ginx14FjmvVm",
        "colab_type": "code",
        "colab": {}
      },
      "source": [
        "model.save('cats_and_dogs_small_3.h5')"
      ],
      "execution_count": 0,
      "outputs": []
    },
    {
      "cell_type": "markdown",
      "metadata": {
        "id": "vcKIWBCUmvVn",
        "colab_type": "text"
      },
      "source": [
        "Let's plot our results again:"
      ]
    },
    {
      "cell_type": "code",
      "metadata": {
        "id": "jo8a4LZUmvVn",
        "colab_type": "code",
        "outputId": "97dc6c1e-d370-4c6f-944c-3fc6bd6fcf1d",
        "colab": {
          "base_uri": "https://localhost:8080/",
          "height": 545
        }
      },
      "source": [
        "acc = history.history['acc']\n",
        "val_acc = history.history['val_acc']\n",
        "loss = history.history['loss']\n",
        "val_loss = history.history['val_loss']\n",
        "\n",
        "epochs = range(len(acc))\n",
        "\n",
        "plt.plot(epochs, acc, 'bo', label='Training acc')\n",
        "plt.plot(epochs, val_acc, 'b', label='Validation acc')\n",
        "plt.title('Training and validation accuracy')\n",
        "plt.legend()\n",
        "\n",
        "plt.figure()\n",
        "\n",
        "plt.plot(epochs, loss, 'bo', label='Training loss')\n",
        "plt.plot(epochs, val_loss, 'b', label='Validation loss')\n",
        "plt.title('Training and validation loss')\n",
        "plt.legend()\n",
        "\n",
        "plt.show()"
      ],
      "execution_count": 0,
      "outputs": [
        {
          "output_type": "display_data",
          "data": {
            "image/png": "[encoded data removed]",
            "text/plain": [
              "<Figure size 432x288 with 1 Axes>"
            ]
          },
          "metadata": {
            "tags": [],
            "needs_background": "light"
          }
        },
        {
          "output_type": "display_data",
          "data": {
            "image/png": "[encoded data removed]",
            "text/plain": [
              "<Figure size 432x288 with 1 Axes>"
            ]
          },
          "metadata": {
            "tags": [],
            "needs_background": "light"
          }
        }
      ]
    },
    {
      "cell_type": "markdown",
      "metadata": {
        "id": "l1YRkE8WmvVo",
        "colab_type": "text"
      },
      "source": [
        "As you can see, we reach a validation accuracy of about 96%. This is much better than our small convnet trained from scratch."
      ]
    },
    {
      "cell_type": "markdown",
      "metadata": {
        "id": "HXVzeHlemvVo",
        "colab_type": "text"
      },
      "source": [
        "## 2.2. Fine-tuning\n",
        "\n",
        "Fine-tuning consists in unfreezing a few of the top layers \n",
        "of a frozen model base used for feature extraction, and jointly training both the newly added part of the model (in our case, the \n",
        "fully-connected classifier) and these top layers. This is called \"fine-tuning\" because it slightly adjusts the more abstract \n",
        "representations of the model being reused, in order to make them more relevant for the problem at hand.\n",
        "\n",
        "![fine-tuning VGG16](https://s3.amazonaws.com/book.keras.io/img/ch5/vgg16_fine_tuning.png)"
      ]
    },
    {
      "cell_type": "markdown",
      "metadata": {
        "id": "HrmE-TqamvVo",
        "colab_type": "text"
      },
      "source": [
        "It is only possible to fine-tune the top layers of the convolutional base once the classifier on \n",
        "top has already been trained. The steps for fine-tuning a network are as follow:\n",
        "\n",
        "* 1) Add your custom network on top of an already trained base network.\n",
        "* 2) Freeze the base network.\n",
        "* 3) Train the part you added.\n",
        "* 4) Unfreeze some layers in the base network.\n",
        "* 5) Jointly train both these layers and the part you added.\n",
        "\n",
        "We have already completed the first 3 steps when doing feature extraction. Let's proceed with the 4th step: we will unfreeze our `conv_base`, \n",
        "and then freeze individual layers inside of it.\n"
      ]
    },
    {
      "cell_type": "markdown",
      "metadata": {
        "id": "LHB4ovqjmvVp",
        "colab_type": "text"
      },
      "source": [
        "\n",
        "We will fine-tune the last 3 convolutional layers, which means that all layers up until `block4_pool` should be frozen, and the layers \n",
        "`block5_conv1`, `block5_conv2` and `block5_conv3` should be trainable."
      ]
    },
    {
      "cell_type": "code",
      "metadata": {
        "id": "lDUS3cYemvVp",
        "colab_type": "code",
        "colab": {}
      },
      "source": [
        "conv_base.trainable = True\n",
        "\n",
        "set_trainable = False\n",
        "for layer in conv_base.layers:\n",
        "    if layer.name == 'block5_conv1':\n",
        "        set_trainable = True\n",
        "    if set_trainable:\n",
        "        layer.trainable = True\n",
        "    else:\n",
        "        layer.trainable = False"
      ],
      "execution_count": 0,
      "outputs": []
    },
    {
      "cell_type": "markdown",
      "metadata": {
        "id": "yXcnwuP0mvVq",
        "colab_type": "text"
      },
      "source": [
        "Now we can start fine-tuning our network. We will do this with the RMSprop optimizer, using a very low learning rate.\n"
      ]
    },
    {
      "cell_type": "code",
      "metadata": {
        "id": "NtwZCdVZmvVq",
        "colab_type": "code",
        "outputId": "68da0574-0aa4-4912-fa1a-a66cb595560a",
        "colab": {
          "base_uri": "https://localhost:8080/",
          "height": 1000
        }
      },
      "source": [
        "model.compile(loss='binary_crossentropy',\n",
        "              optimizer=optimizers.RMSprop(lr=1e-5),\n",
        "              metrics=['acc'])\n",
        "\n",
        "history = model.fit_generator(\n",
        "      train_generator,\n",
        "      steps_per_epoch=100,\n",
        "      epochs=100,\n",
        "      validation_data=validation_generator,\n",
        "      validation_steps=50)"
      ],
      "execution_count": 0,
      "outputs": [
        {
          "output_type": "stream",
          "text": [
            "Epoch 1/100\n",
            "100/100 [==============================] - 23s 228ms/step - loss: 0.0742 - acc: 0.9735 - val_loss: 0.0019 - val_acc: 0.9350\n",
            "Epoch 2/100\n",
            "100/100 [==============================] - 21s 214ms/step - loss: 0.0554 - acc: 0.9825 - val_loss: 7.8618e-04 - val_acc: 0.9320\n",
            "Epoch 3/100\n",
            "100/100 [==============================] - 22s 217ms/step - loss: 0.0633 - acc: 0.9725 - val_loss: 0.0139 - val_acc: 0.9380\n",
            "Epoch 4/100\n",
            "100/100 [==============================] - 21s 214ms/step - loss: 0.0558 - acc: 0.9790 - val_loss: 0.0887 - val_acc: 0.9330\n",
            "Epoch 5/100\n",
            "100/100 [==============================] - 21s 211ms/step - loss: 0.0641 - acc: 0.9780 - val_loss: 0.3763 - val_acc: 0.9380\n",
            "Epoch 6/100\n",
            "100/100 [==============================] - 22s 222ms/step - loss: 0.0591 - acc: 0.9770 - val_loss: 0.0782 - val_acc: 0.9340\n",
            "Epoch 7/100\n",
            "100/100 [==============================] - 22s 222ms/step - loss: 0.0552 - acc: 0.9810 - val_loss: 0.0141 - val_acc: 0.9420\n",
            "Epoch 8/100\n",
            "100/100 [==============================] - 22s 217ms/step - loss: 0.0450 - acc: 0.9835 - val_loss: 0.2479 - val_acc: 0.9340\n",
            "Epoch 9/100\n",
            "100/100 [==============================] - 22s 217ms/step - loss: 0.0542 - acc: 0.9820 - val_loss: 0.1372 - val_acc: 0.9440\n",
            "Epoch 10/100\n",
            "100/100 [==============================] - 22s 219ms/step - loss: 0.0416 - acc: 0.9815 - val_loss: 0.0039 - val_acc: 0.9410\n",
            "Epoch 11/100\n",
            "100/100 [==============================] - 22s 219ms/step - loss: 0.0443 - acc: 0.9825 - val_loss: 0.3591 - val_acc: 0.9300\n",
            "Epoch 12/100\n",
            "100/100 [==============================] - 22s 219ms/step - loss: 0.0495 - acc: 0.9815 - val_loss: 0.4991 - val_acc: 0.9390\n",
            "Epoch 13/100\n",
            "100/100 [==============================] - 22s 220ms/step - loss: 0.0429 - acc: 0.9830 - val_loss: 0.0710 - val_acc: 0.9400\n",
            "Epoch 14/100\n",
            "100/100 [==============================] - 22s 220ms/step - loss: 0.0455 - acc: 0.9820 - val_loss: 0.3563 - val_acc: 0.9340\n",
            "Epoch 15/100\n",
            "100/100 [==============================] - 22s 216ms/step - loss: 0.0439 - acc: 0.9850 - val_loss: 0.2133 - val_acc: 0.9360\n",
            "Epoch 16/100\n",
            "100/100 [==============================] - 22s 217ms/step - loss: 0.0387 - acc: 0.9840 - val_loss: 0.0044 - val_acc: 0.9370\n",
            "Epoch 17/100\n",
            "100/100 [==============================] - 22s 224ms/step - loss: 0.0416 - acc: 0.9850 - val_loss: 0.0716 - val_acc: 0.9410\n",
            "Epoch 18/100\n",
            "100/100 [==============================] - 22s 215ms/step - loss: 0.0366 - acc: 0.9840 - val_loss: 0.0053 - val_acc: 0.9310\n",
            "Epoch 19/100\n",
            "100/100 [==============================] - 21s 214ms/step - loss: 0.0321 - acc: 0.9905 - val_loss: 0.4954 - val_acc: 0.9230\n",
            "Epoch 20/100\n",
            "100/100 [==============================] - 21s 212ms/step - loss: 0.0443 - acc: 0.9880 - val_loss: 1.5618 - val_acc: 0.9440\n",
            "Epoch 21/100\n",
            "100/100 [==============================] - 21s 214ms/step - loss: 0.0393 - acc: 0.9870 - val_loss: 0.0462 - val_acc: 0.9430\n",
            "Epoch 22/100\n",
            "100/100 [==============================] - 21s 212ms/step - loss: 0.0446 - acc: 0.9865 - val_loss: 0.8927 - val_acc: 0.9360\n",
            "Epoch 23/100\n",
            "100/100 [==============================] - 21s 213ms/step - loss: 0.0431 - acc: 0.9825 - val_loss: 0.5681 - val_acc: 0.9360\n",
            "Epoch 24/100\n",
            "100/100 [==============================] - 21s 212ms/step - loss: 0.0401 - acc: 0.9865 - val_loss: 0.2432 - val_acc: 0.9420\n",
            "Epoch 25/100\n",
            "100/100 [==============================] - 21s 213ms/step - loss: 0.0334 - acc: 0.9895 - val_loss: 0.0611 - val_acc: 0.9430\n",
            "Epoch 26/100\n",
            "100/100 [==============================] - 21s 211ms/step - loss: 0.0481 - acc: 0.9830 - val_loss: 0.0360 - val_acc: 0.9300\n",
            "Epoch 27/100\n",
            "100/100 [==============================] - 21s 210ms/step - loss: 0.0384 - acc: 0.9845 - val_loss: 0.6577 - val_acc: 0.9340\n",
            "Epoch 28/100\n",
            "100/100 [==============================] - 22s 218ms/step - loss: 0.0419 - acc: 0.9840 - val_loss: 0.0504 - val_acc: 0.9420\n",
            "Epoch 29/100\n",
            "100/100 [==============================] - 22s 220ms/step - loss: 0.0245 - acc: 0.9910 - val_loss: 0.0968 - val_acc: 0.9430\n",
            "Epoch 30/100\n",
            "100/100 [==============================] - 22s 219ms/step - loss: 0.0469 - acc: 0.9860 - val_loss: 0.1009 - val_acc: 0.9320\n",
            "Epoch 31/100\n",
            "100/100 [==============================] - 21s 214ms/step - loss: 0.0332 - acc: 0.9875 - val_loss: 0.4557 - val_acc: 0.9300\n",
            "Epoch 32/100\n",
            "100/100 [==============================] - 21s 213ms/step - loss: 0.0334 - acc: 0.9860 - val_loss: 0.3144 - val_acc: 0.9410\n",
            "Epoch 33/100\n",
            "100/100 [==============================] - 21s 212ms/step - loss: 0.0312 - acc: 0.9855 - val_loss: 0.0161 - val_acc: 0.9390\n",
            "Epoch 34/100\n",
            "100/100 [==============================] - 21s 209ms/step - loss: 0.0275 - acc: 0.9915 - val_loss: 0.3599 - val_acc: 0.9160\n",
            "Epoch 35/100\n",
            "100/100 [==============================] - 21s 212ms/step - loss: 0.0349 - acc: 0.9880 - val_loss: 0.0955 - val_acc: 0.9430\n",
            "Epoch 36/100\n",
            "100/100 [==============================] - 21s 210ms/step - loss: 0.0381 - acc: 0.9855 - val_loss: 0.0374 - val_acc: 0.9400\n",
            "Epoch 37/100\n",
            "100/100 [==============================] - 21s 209ms/step - loss: 0.0267 - acc: 0.9920 - val_loss: 0.6640 - val_acc: 0.9310\n",
            "Epoch 38/100\n",
            "100/100 [==============================] - 21s 210ms/step - loss: 0.0220 - acc: 0.9890 - val_loss: 0.0392 - val_acc: 0.9370\n",
            "Epoch 39/100\n",
            "100/100 [==============================] - 21s 209ms/step - loss: 0.0263 - acc: 0.9900 - val_loss: 0.0269 - val_acc: 0.9400\n",
            "Epoch 40/100\n",
            "100/100 [==============================] - 21s 212ms/step - loss: 0.0405 - acc: 0.9875 - val_loss: 0.3536 - val_acc: 0.9270\n",
            "Epoch 41/100\n",
            "100/100 [==============================] - 21s 210ms/step - loss: 0.0256 - acc: 0.9890 - val_loss: 0.0352 - val_acc: 0.9470\n",
            "Epoch 42/100\n",
            "100/100 [==============================] - 21s 210ms/step - loss: 0.0246 - acc: 0.9935 - val_loss: 0.4169 - val_acc: 0.9410\n",
            "Epoch 43/100\n",
            "100/100 [==============================] - 21s 211ms/step - loss: 0.0308 - acc: 0.9900 - val_loss: 0.0868 - val_acc: 0.9320\n",
            "Epoch 44/100\n",
            "100/100 [==============================] - 21s 213ms/step - loss: 0.0462 - acc: 0.9860 - val_loss: 0.0373 - val_acc: 0.9380\n",
            "Epoch 45/100\n",
            "100/100 [==============================] - 21s 212ms/step - loss: 0.0257 - acc: 0.9900 - val_loss: 0.3725 - val_acc: 0.9230\n",
            "Epoch 46/100\n",
            "100/100 [==============================] - 22s 215ms/step - loss: 0.0237 - acc: 0.9920 - val_loss: 0.1032 - val_acc: 0.9380\n",
            "Epoch 47/100\n",
            "100/100 [==============================] - 21s 213ms/step - loss: 0.0272 - acc: 0.9890 - val_loss: 0.0027 - val_acc: 0.9400\n",
            "Epoch 48/100\n",
            "100/100 [==============================] - 21s 213ms/step - loss: 0.0373 - acc: 0.9880 - val_loss: 0.9187 - val_acc: 0.9380\n",
            "Epoch 49/100\n",
            "100/100 [==============================] - 21s 211ms/step - loss: 0.0170 - acc: 0.9925 - val_loss: 0.1306 - val_acc: 0.9260\n",
            "Epoch 50/100\n",
            "100/100 [==============================] - 21s 214ms/step - loss: 0.0316 - acc: 0.9895 - val_loss: 0.0170 - val_acc: 0.9400\n",
            "Epoch 51/100\n",
            "100/100 [==============================] - 21s 214ms/step - loss: 0.0198 - acc: 0.9920 - val_loss: 0.2474 - val_acc: 0.9450\n",
            "Epoch 52/100\n",
            "100/100 [==============================] - 21s 214ms/step - loss: 0.0292 - acc: 0.9890 - val_loss: 0.2034 - val_acc: 0.9330\n",
            "Epoch 53/100\n",
            "100/100 [==============================] - 21s 213ms/step - loss: 0.0295 - acc: 0.9910 - val_loss: 0.3595 - val_acc: 0.9430\n",
            "Epoch 54/100\n",
            "100/100 [==============================] - 21s 213ms/step - loss: 0.0235 - acc: 0.9905 - val_loss: 0.0430 - val_acc: 0.9460\n",
            "Epoch 55/100\n",
            "100/100 [==============================] - 22s 216ms/step - loss: 0.0212 - acc: 0.9935 - val_loss: 0.5475 - val_acc: 0.9420\n",
            "Epoch 56/100\n",
            "100/100 [==============================] - 22s 215ms/step - loss: 0.0205 - acc: 0.9915 - val_loss: 0.4479 - val_acc: 0.9240\n",
            "Epoch 57/100\n",
            "100/100 [==============================] - 21s 213ms/step - loss: 0.0233 - acc: 0.9905 - val_loss: 0.0013 - val_acc: 0.9390\n",
            "Epoch 58/100\n",
            "100/100 [==============================] - 21s 213ms/step - loss: 0.0316 - acc: 0.9915 - val_loss: 0.0520 - val_acc: 0.9220\n",
            "Epoch 59/100\n",
            "100/100 [==============================] - 21s 213ms/step - loss: 0.0196 - acc: 0.9935 - val_loss: 0.0155 - val_acc: 0.9310\n",
            "Epoch 60/100\n",
            "100/100 [==============================] - 21s 212ms/step - loss: 0.0194 - acc: 0.9915 - val_loss: 0.4706 - val_acc: 0.9400\n",
            "Epoch 61/100\n",
            "100/100 [==============================] - 22s 216ms/step - loss: 0.0322 - acc: 0.9870 - val_loss: 1.8259e-04 - val_acc: 0.9460\n",
            "Epoch 62/100\n",
            "100/100 [==============================] - 21s 211ms/step - loss: 0.0178 - acc: 0.9925 - val_loss: 0.0086 - val_acc: 0.9490\n",
            "Epoch 63/100\n",
            "100/100 [==============================] - 21s 214ms/step - loss: 0.0200 - acc: 0.9935 - val_loss: 0.4539 - val_acc: 0.9480\n",
            "Epoch 64/100\n",
            "100/100 [==============================] - 21s 209ms/step - loss: 0.0216 - acc: 0.9905 - val_loss: 0.0820 - val_acc: 0.9460\n",
            "Epoch 65/100\n",
            "100/100 [==============================] - 21s 210ms/step - loss: 0.0192 - acc: 0.9920 - val_loss: 0.0317 - val_acc: 0.9420\n",
            "Epoch 66/100\n",
            "100/100 [==============================] - 21s 212ms/step - loss: 0.0179 - acc: 0.9950 - val_loss: 0.7289 - val_acc: 0.9450\n",
            "Epoch 67/100\n",
            "100/100 [==============================] - 21s 210ms/step - loss: 0.0231 - acc: 0.9935 - val_loss: 1.6321e-04 - val_acc: 0.9360\n",
            "Epoch 68/100\n",
            "100/100 [==============================] - 21s 210ms/step - loss: 0.0293 - acc: 0.9900 - val_loss: 0.0143 - val_acc: 0.9440\n",
            "Epoch 69/100\n",
            "100/100 [==============================] - 21s 209ms/step - loss: 0.0240 - acc: 0.9930 - val_loss: 4.2842e-06 - val_acc: 0.9420\n",
            "Epoch 70/100\n",
            "100/100 [==============================] - 21s 211ms/step - loss: 0.0179 - acc: 0.9935 - val_loss: 0.6222 - val_acc: 0.9410\n",
            "Epoch 71/100\n",
            "100/100 [==============================] - 21s 209ms/step - loss: 0.0175 - acc: 0.9925 - val_loss: 0.1278 - val_acc: 0.9400\n",
            "Epoch 72/100\n",
            "100/100 [==============================] - 21s 209ms/step - loss: 0.0292 - acc: 0.9925 - val_loss: 2.5197e-05 - val_acc: 0.9490\n",
            "Epoch 73/100\n",
            "100/100 [==============================] - 21s 211ms/step - loss: 0.0289 - acc: 0.9915 - val_loss: 0.8566 - val_acc: 0.9380\n",
            "Epoch 74/100\n",
            "100/100 [==============================] - 21s 212ms/step - loss: 0.0220 - acc: 0.9915 - val_loss: 0.7599 - val_acc: 0.9400\n",
            "Epoch 75/100\n",
            "100/100 [==============================] - 21s 212ms/step - loss: 0.0219 - acc: 0.9945 - val_loss: 0.4897 - val_acc: 0.9480\n",
            "Epoch 76/100\n",
            "100/100 [==============================] - 21s 212ms/step - loss: 0.0271 - acc: 0.9935 - val_loss: 0.0155 - val_acc: 0.9430\n",
            "Epoch 77/100\n",
            "100/100 [==============================] - 21s 211ms/step - loss: 0.0213 - acc: 0.9940 - val_loss: 0.5744 - val_acc: 0.9410\n",
            "Epoch 78/100\n",
            "100/100 [==============================] - 21s 212ms/step - loss: 0.0230 - acc: 0.9915 - val_loss: 1.0924 - val_acc: 0.9170\n",
            "Epoch 79/100\n",
            "100/100 [==============================] - 21s 212ms/step - loss: 0.0225 - acc: 0.9910 - val_loss: 0.2888 - val_acc: 0.9420\n",
            "Epoch 80/100\n",
            "100/100 [==============================] - 21s 212ms/step - loss: 0.0159 - acc: 0.9945 - val_loss: 0.0046 - val_acc: 0.9440\n",
            "Epoch 81/100\n",
            "100/100 [==============================] - 21s 213ms/step - loss: 0.0247 - acc: 0.9950 - val_loss: 0.0087 - val_acc: 0.9350\n",
            "Epoch 82/100\n",
            "100/100 [==============================] - 21s 213ms/step - loss: 0.0240 - acc: 0.9920 - val_loss: 1.3071 - val_acc: 0.9390\n",
            "Epoch 83/100\n",
            "100/100 [==============================] - 21s 213ms/step - loss: 0.0189 - acc: 0.9920 - val_loss: 0.5873 - val_acc: 0.9400\n",
            "Epoch 84/100\n",
            "100/100 [==============================] - 21s 213ms/step - loss: 0.0156 - acc: 0.9955 - val_loss: 1.3420 - val_acc: 0.9300\n",
            "Epoch 85/100\n",
            "100/100 [==============================] - 21s 214ms/step - loss: 0.0331 - acc: 0.9935 - val_loss: 0.0174 - val_acc: 0.9440\n",
            "Epoch 86/100\n",
            "100/100 [==============================] - 21s 211ms/step - loss: 0.0143 - acc: 0.9925 - val_loss: 0.6365 - val_acc: 0.9440\n",
            "Epoch 87/100\n",
            "100/100 [==============================] - 21s 212ms/step - loss: 0.0179 - acc: 0.9935 - val_loss: 0.8036 - val_acc: 0.9070\n",
            "Epoch 88/100\n",
            "100/100 [==============================] - 21s 212ms/step - loss: 0.0253 - acc: 0.9930 - val_loss: 0.1760 - val_acc: 0.9360\n",
            "Epoch 89/100\n",
            "100/100 [==============================] - 22s 215ms/step - loss: 0.0205 - acc: 0.9940 - val_loss: 0.3271 - val_acc: 0.9440\n",
            "Epoch 90/100\n",
            "100/100 [==============================] - 22s 218ms/step - loss: 0.0132 - acc: 0.9970 - val_loss: 0.1631 - val_acc: 0.9410\n",
            "Epoch 91/100\n",
            "100/100 [==============================] - 21s 212ms/step - loss: 0.0155 - acc: 0.9950 - val_loss: 0.0912 - val_acc: 0.9390\n",
            "Epoch 92/100\n",
            "100/100 [==============================] - 21s 212ms/step - loss: 0.0177 - acc: 0.9930 - val_loss: 0.8128 - val_acc: 0.9410\n",
            "Epoch 93/100\n",
            "100/100 [==============================] - 21s 215ms/step - loss: 0.0236 - acc: 0.9905 - val_loss: 0.3939 - val_acc: 0.9420\n",
            "Epoch 94/100\n",
            "100/100 [==============================] - 21s 212ms/step - loss: 0.0126 - acc: 0.9955 - val_loss: 0.3617 - val_acc: 0.9460\n",
            "Epoch 95/100\n",
            "100/100 [==============================] - 22s 216ms/step - loss: 0.0210 - acc: 0.9915 - val_loss: 0.2523 - val_acc: 0.9460\n",
            "Epoch 96/100\n",
            "100/100 [==============================] - 21s 214ms/step - loss: 0.0149 - acc: 0.9950 - val_loss: 0.1075 - val_acc: 0.9220\n",
            "Epoch 97/100\n",
            "100/100 [==============================] - 22s 218ms/step - loss: 0.0130 - acc: 0.9955 - val_loss: 5.1662e-05 - val_acc: 0.9330\n",
            "Epoch 98/100\n",
            "100/100 [==============================] - 21s 214ms/step - loss: 0.0125 - acc: 0.9965 - val_loss: 0.8838 - val_acc: 0.9460\n",
            "Epoch 99/100\n",
            "100/100 [==============================] - 21s 213ms/step - loss: 0.0259 - acc: 0.9945 - val_loss: 0.5768 - val_acc: 0.9450\n",
            "Epoch 100/100\n",
            "100/100 [==============================] - 21s 215ms/step - loss: 0.0209 - acc: 0.9940 - val_loss: 0.0444 - val_acc: 0.9400\n"
          ],
          "name": "stdout"
        }
      ]
    },
    {
      "cell_type": "code",
      "metadata": {
        "id": "HxGnZvLNmvVr",
        "colab_type": "code",
        "colab": {}
      },
      "source": [
        "model.save('cats_and_dogs_small_4.h5')"
      ],
      "execution_count": 0,
      "outputs": []
    },
    {
      "cell_type": "markdown",
      "metadata": {
        "id": "Q8vKFgismvVr",
        "colab_type": "text"
      },
      "source": [
        "Let's plot our results using the same plotting code as before:"
      ]
    },
    {
      "cell_type": "code",
      "metadata": {
        "id": "mvGfzBBFmvVs",
        "colab_type": "code",
        "outputId": "8e92c80d-784e-40dc-eb4d-c26922a02d65",
        "colab": {
          "base_uri": "https://localhost:8080/",
          "height": 545
        }
      },
      "source": [
        "acc = history.history['acc']\n",
        "val_acc = history.history['val_acc']\n",
        "loss = history.history['loss']\n",
        "val_loss = history.history['val_loss']\n",
        "\n",
        "epochs = range(len(acc))\n",
        "\n",
        "plt.plot(epochs, acc, 'bo', label='Training acc')\n",
        "plt.plot(epochs, val_acc, 'b', label='Validation acc')\n",
        "plt.title('Training and validation accuracy')\n",
        "plt.legend()\n",
        "\n",
        "plt.figure()\n",
        "\n",
        "plt.plot(epochs, loss, 'bo', label='Training loss')\n",
        "plt.plot(epochs, val_loss, 'b', label='Validation loss')\n",
        "plt.title('Training and validation loss')\n",
        "plt.legend()\n",
        "\n",
        "plt.show()"
      ],
      "execution_count": 0,
      "outputs": [
        {
          "output_type": "display_data",
          "data": {
            "image/png": "[encoded data removed]",
            "text/plain": [
              "<Figure size 432x288 with 1 Axes>"
            ]
          },
          "metadata": {
            "tags": [],
            "needs_background": "light"
          }
        },
        {
          "output_type": "display_data",
          "data": {
            "image/png": "[encoded data removed]",
            "text/plain": [
              "<Figure size 432x288 with 1 Axes>"
            ]
          },
          "metadata": {
            "tags": [],
            "needs_background": "light"
          }
        }
      ]
    },
    {
      "cell_type": "markdown",
      "metadata": {
        "id": "LHOKN2TZmvVs",
        "colab_type": "text"
      },
      "source": [
        "\n",
        "These curves look very noisy. To make them more readable, we can smooth them by replacing every loss and accuracy with exponential moving \n",
        "averages of these quantities. Here's a trivial utility function to do this:"
      ]
    },
    {
      "cell_type": "code",
      "metadata": {
        "id": "fhd5RQzLmvVs",
        "colab_type": "code",
        "outputId": "8ba8b37d-c6d8-4145-b59c-35d6353e1cb1",
        "colab": {
          "base_uri": "https://localhost:8080/",
          "height": 545
        }
      },
      "source": [
        "def smooth_curve(points, factor=0.8):\n",
        "  smoothed_points = []\n",
        "  for point in points:\n",
        "    if smoothed_points:\n",
        "      previous = smoothed_points[-1]\n",
        "      smoothed_points.append(previous * factor + point * (1 - factor))\n",
        "    else:\n",
        "      smoothed_points.append(point)\n",
        "  return smoothed_points\n",
        "\n",
        "plt.plot(epochs,\n",
        "         smooth_curve(acc), 'bo', label='Smoothed training acc')\n",
        "plt.plot(epochs,\n",
        "         smooth_curve(val_acc), 'b', label='Smoothed validation acc')\n",
        "plt.title('Training and validation accuracy')\n",
        "plt.legend()\n",
        "\n",
        "plt.figure()\n",
        "\n",
        "plt.plot(epochs,\n",
        "         smooth_curve(loss), 'bo', label='Smoothed training loss')\n",
        "plt.plot(epochs,\n",
        "         smooth_curve(val_loss), 'b', label='Smoothed validation loss')\n",
        "plt.title('Training and validation loss')\n",
        "plt.legend()\n",
        "\n",
        "plt.show()"
      ],
      "execution_count": 0,
      "outputs": [
        {
          "output_type": "display_data",
          "data": {
            "image/png": "[encoded data removed]",
            "text/plain": [
              "<Figure size 432x288 with 1 Axes>"
            ]
          },
          "metadata": {
            "tags": [],
            "needs_background": "light"
          }
        },
        {
          "output_type": "display_data",
          "data": {
            "image/png": "[encoded data removed]",
            "text/plain": [
              "<Figure size 432x288 with 1 Axes>"
            ]
          },
          "metadata": {
            "tags": [],
            "needs_background": "light"
          }
        }
      ]
    },
    {
      "cell_type": "markdown",
      "metadata": {
        "id": "2t6tmWkfmvVt",
        "colab_type": "text"
      },
      "source": [
        "\n",
        "These curves look much cleaner and more stable. We are seeing a nice 1% absolute improvement.\n",
        "\n",
        "We can now finally evaluate this model on the test data:"
      ]
    },
    {
      "cell_type": "code",
      "metadata": {
        "id": "AKeHhJWbmvVt",
        "colab_type": "code",
        "outputId": "903dc967-5c80-45a8-8480-f3f5b87e4fb6",
        "colab": {
          "base_uri": "https://localhost:8080/",
          "height": 52
        }
      },
      "source": [
        "test_generator = test_datagen.flow_from_directory(\n",
        "        test_dir,\n",
        "        target_size=(150, 150),\n",
        "        batch_size=20,\n",
        "        class_mode='binary')\n",
        "\n",
        "test_loss, test_acc = model.evaluate_generator(test_generator, steps=50)\n",
        "print('test acc:', test_acc)"
      ],
      "execution_count": 0,
      "outputs": [
        {
          "output_type": "stream",
          "text": [
            "Found 1000 images belonging to 2 classes.\n",
            "test acc: 0.9390000104904175\n"
          ],
          "name": "stdout"
        }
      ]
    },
    {
      "cell_type": "markdown",
      "metadata": {
        "id": "7pEXfTz_mvVu",
        "colab_type": "text"
      },
      "source": [
        "\n",
        "Here we get a test accuracy of 97%."
      ]
    },
    {
      "cell_type": "markdown",
      "metadata": {
        "id": "y4lL0sSbX8Qw",
        "colab_type": "text"
      },
      "source": [
        "To increase the validation and test accuracy, I have tried adding more dense layers to multiple different cells, as well as adding regularization layers (such as drop out). This resulted in running the epochs countless times, and none of these techniques have worked to increase the test accuracy to 97.\n"
      ]
    }
  ]
}