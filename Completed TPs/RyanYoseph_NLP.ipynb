{
  "nbformat": 4,
  "nbformat_minor": 0,
  "metadata": {
    "colab": {
      "name": "Copy of TP_NLP_sujet.ipynb",
      "provenance": []
    },
    "kernelspec": {
      "display_name": "Python 3",
      "language": "python",
      "name": "python3"
    },
    "language_info": {
      "codemirror_mode": {
        "name": "ipython",
        "version": 3
      },
      "file_extension": ".py",
      "mimetype": "text/x-python",
      "name": "python",
      "nbconvert_exporter": "python",
      "pygments_lexer": "ipython3",
      "version": "3.7.3"
    },
    "accelerator": "GPU"
  },
  "cells": [
    {
      "cell_type": "markdown",
      "metadata": {
        "colab_type": "text",
        "id": "72tQHNlEVe33"
      },
      "source": [
        "# TP NLP \n",
        "\n",
        "This lab is based on the NLP lab from Ecole polytechnique.\n",
        "\n",
        "## 0. Words embedding\n",
        "\n",
        "In this lab, you will discover words embedding through several tasks such as translation or classification. The first step will be to download pretrained embeddings. To do so, you have to run the following cells."
      ]
    },
    {
      "cell_type": "code",
      "metadata": {
        "colab_type": "code",
        "id": "p5hHp3d5bZDY",
        "outputId": "b8b4d2e8-d084-4822-dc46-ba5a14401e4c",
        "colab": {
          "base_uri": "https://localhost:8080/",
          "height": 207
        }
      },
      "source": [
        "!wget -P /root/input/ -c \"https://s3.amazonaws.com/dl4j-distribution/GoogleNews-vectors-negative300.bin.gz\""
      ],
      "execution_count": 0,
      "outputs": [
        {
          "output_type": "stream",
          "text": [
            "--2020-05-27 01:21:18--  https://s3.amazonaws.com/dl4j-distribution/GoogleNews-vectors-negative300.bin.gz\n",
            "Resolving s3.amazonaws.com (s3.amazonaws.com)... 52.216.205.181\n",
            "Connecting to s3.amazonaws.com (s3.amazonaws.com)|52.216.205.181|:443... connected.\n",
            "HTTP request sent, awaiting response... 200 OK\n",
            "Length: 1647046227 (1.5G) [application/x-gzip]\n",
            "Saving to: ‘/root/input/GoogleNews-vectors-negative300.bin.gz’\n",
            "\n",
            "GoogleNews-vectors- 100%[===================>]   1.53G  13.6MB/s    in 1m 57s  \n",
            "\n",
            "2020-05-27 01:23:17 (13.4 MB/s) - ‘/root/input/GoogleNews-vectors-negative300.bin.gz’ saved [1647046227/1647046227]\n",
            "\n"
          ],
          "name": "stdout"
        }
      ]
    },
    {
      "cell_type": "code",
      "metadata": {
        "colab_type": "code",
        "id": "6HIGtxxcVYPX",
        "colab": {}
      },
      "source": [
        "from gensim.models import KeyedVectors\n",
        "import numpy as np"
      ],
      "execution_count": 0,
      "outputs": []
    },
    {
      "cell_type": "code",
      "metadata": {
        "colab_type": "code",
        "id": "IEoX84_2ZQOh",
        "outputId": "9fcea50e-de72-40cf-9672-e5f184035351",
        "colab": {
          "base_uri": "https://localhost:8080/",
          "height": 106
        }
      },
      "source": [
        "\n",
        "#Run this cell only to test if you have correctedly downloaded the data.\n",
        "\n",
        "EMBEDDING_FILE = '/root/input/GoogleNews-vectors-negative300.bin.gz'\n",
        "word2vec = KeyedVectors.load_word2vec_format(EMBEDDING_FILE, binary=True)\n",
        "\n",
        "#Use the following line to assert that the Word2Vec data is available\n",
        "print(word2vec.word_vec(\"test\")[:10])\n",
        "\n",
        "#Once you get the expected results, you don't have to run this cell again.\n",
        "del word2vec"
      ],
      "execution_count": 0,
      "outputs": [
        {
          "output_type": "stream",
          "text": [
            "/usr/local/lib/python3.6/dist-packages/smart_open/smart_open_lib.py:253: UserWarning: This function is deprecated, use smart_open.open instead. See the migration notes for details: https://github.com/RaRe-Technologies/smart_open/blob/master/README.rst#migrating-to-the-new-open-function\n",
            "  'See the migration notes for details: %s' % _MIGRATION_NOTES_URL\n"
          ],
          "name": "stderr"
        },
        {
          "output_type": "stream",
          "text": [
            "[-0.14257812 -0.03686523  0.13574219 -0.06201172  0.07958984  0.01904297\n",
            " -0.08154297 -0.12792969 -0.02954102  0.23632812]\n"
          ],
          "name": "stdout"
        }
      ]
    },
    {
      "cell_type": "markdown",
      "metadata": {
        "colab_type": "text",
        "id": "3bU0frRc-itB"
      },
      "source": [
        "## 1. Word2Vec applied to English Vocabulary\n",
        "\n",
        "We will use this embeddings to evaluate similarities between words. These tests will also help us to evaluate the quality of the embedding. To do so, we are going to use the given Word2Vec class. The structure of the class has been created (init and load_wordvec methods) but you'll have to complete the two following methods :\n",
        "\n",
        "*   *most_similar :* Compute the K most similar words to a given word\n",
        "\n",
        "    Input : a word w and the expected number of outputs K\n",
        "\n",
        "    Output : The K closest numbers according to the score function\n",
        "\n",
        "*   *score :* Compute the cosine similarity between two vectors \n",
        "\n",
        "    Input : two words w1 and w2\n",
        "\n",
        "    Output : Cosine similarities between the two vectors corresponding to the two inputs\n",
        "\n",
        "\n"
      ]
    },
    {
      "cell_type": "code",
      "metadata": {
        "colab_type": "code",
        "id": "PzFYMhiC-oBA",
        "colab": {}
      },
      "source": [
        "from collections import Counter\n",
        "from scipy import spatial\n",
        "\n",
        "class Word2vec():\n",
        "    def __init__(self, fname):\n",
        "        self.load_wordvec(fname)\n",
        "        self.vocab = self.word2vec.vocab.keys()\n",
        "    \n",
        "    def load_wordvec(self, fname):\n",
        "        self.word2vec = KeyedVectors.load_word2vec_format(fname, binary=True, limit = 500000)\n",
        "\n",
        "    def most_similar(self, w, K=5):\n",
        "        # TODO \n",
        "        #make loop over english vocabulary (self.vocab) compute score call score\n",
        "\n",
        "        closest_numbers = [0 for i in range(K+1)]\n",
        "        words = [0 for i in range(K+1)]\n",
        "\n",
        "        for iterLoop in range(K+1):\n",
        "          for keys in self.vocab:\n",
        "            s = self.score(w, keys)\n",
        "            if iterLoop == 0:\n",
        "              if (s>closest_numbers[iterLoop]):\n",
        "                closest_numbers[iterLoop] = s\n",
        "                words[iterLoop] = keys, closest_numbers[iterLoop]\n",
        "            else:\n",
        "              if (s>closest_numbers[iterLoop] and s<closest_numbers[iterLoop-1]):\n",
        "                closest_numbers[iterLoop] =  s\n",
        "                words[iterLoop] = keys, closest_numbers[iterLoop]\n",
        "\n",
        "        del words[0] #it will find itself, so we disregard that\n",
        "\n",
        "        return words\n",
        "    def score(self, w1, w2):\n",
        "        # TODO (help : np.linalg.norm will return the norm of a vector) cosine simularity\n",
        "\n",
        "        vec1 = self.word2vec.word_vec(w1)\n",
        "        # print(w1, \": \", vec1)\n",
        "        vec2 = self.word2vec.word_vec(w2)\n",
        "\n",
        "        cos_sim = (np.sum(vec1*vec2)/(np.linalg.norm(vec1)*np.linalg.norm(vec2)))\n",
        "        \n",
        "        return cos_sim\n"
      ],
      "execution_count": 0,
      "outputs": []
    },
    {
      "cell_type": "code",
      "metadata": {
        "colab_type": "code",
        "id": "LarugNtxAdOa",
        "outputId": "d9188ae0-1d37-4741-fbf6-bb6650955075",
        "colab": {
          "base_uri": "https://localhost:8080/",
          "height": 71
        }
      },
      "source": [
        "EMBEDDING_FILE = '/root/input/GoogleNews-vectors-negative300.bin.gz'\n",
        "w2v = Word2vec(EMBEDDING_FILE)\n",
        "word2vec = KeyedVectors.load_word2vec_format(EMBEDDING_FILE, binary=True)"
      ],
      "execution_count": 0,
      "outputs": [
        {
          "output_type": "stream",
          "text": [
            "/usr/local/lib/python3.6/dist-packages/smart_open/smart_open_lib.py:253: UserWarning: This function is deprecated, use smart_open.open instead. See the migration notes for details: https://github.com/RaRe-Technologies/smart_open/blob/master/README.rst#migrating-to-the-new-open-function\n",
            "  'See the migration notes for details: %s' % _MIGRATION_NOTES_URL\n"
          ],
          "name": "stderr"
        }
      ]
    },
    {
      "cell_type": "markdown",
      "metadata": {
        "colab_type": "text",
        "id": "VrkiNgyJO9x9"
      },
      "source": [
        "Run the following cell to evaluate your model. You don't have to modify this cell."
      ]
    },
    {
      "cell_type": "code",
      "metadata": {
        "colab_type": "code",
        "id": "DIAEV3qJODmp",
        "outputId": "aff4d243-f4f2-4421-86e1-79f00c488cb1",
        "colab": {
          "base_uri": "https://localhost:8080/",
          "height": 190
        }
      },
      "source": [
        "# You will be evaluated on the output of the following:\n",
        "for w1, w2 in zip(('cat', 'dog', 'dogs', 'paris', 'germany'), ('dog', 'pet', 'cats', 'france', 'berlin')):\n",
        "    print(w1, w2, w2v.score(w1, w2))\n",
        "for w1 in ['cat', 'dog', 'dogs', 'paris', 'germany']:\n",
        "    print(w2v.most_similar(w1))"
      ],
      "execution_count": 0,
      "outputs": [
        {
          "output_type": "stream",
          "text": [
            "cat dog 0.76094574\n",
            "dog pet 0.71647847\n",
            "dogs cats 0.7651765\n",
            "paris france 0.5550795\n",
            "germany berlin 0.5539934\n",
            "[('cats', 0.80993795), ('dog', 0.76094574), ('kitten', 0.74649847), ('feline', 0.7326235), ('beagle', 0.7150583)]\n",
            "[('dogs', 0.868049), ('puppy', 0.81064284), ('pit_bull', 0.780396), ('pooch', 0.76273763), ('cat', 0.76094574)]\n",
            "[('dog', 0.868049), ('canines', 0.8181711), ('cats', 0.7651765), ('pit_bulls', 0.75483024), ('pets', 0.7424417)]\n",
            "[('london', 0.5555775), ('france', 0.5550795), ('dubai', 0.5532332), ('rome', 0.5465838), ('toronto', 0.5457153)]\n",
            "[('german', 0.6809574), ('europe', 0.6781216), ('european', 0.65021104), ('sweden', 0.638424), ('france', 0.63143545)]\n"
          ],
          "name": "stdout"
        }
      ]
    },
    {
      "cell_type": "markdown",
      "metadata": {
        "colab_type": "text",
        "id": "TszfB41eTkds"
      },
      "source": [
        "You can compare your results with the method *most_similar_cosmul* that uses another solution to compute the most similar words :"
      ]
    },
    {
      "cell_type": "code",
      "metadata": {
        "colab_type": "code",
        "id": "OeMzXAgORkW_",
        "outputId": "9ae35d2a-b32a-42b3-a717-ccd103d18de7",
        "colab": {
          "base_uri": "https://localhost:8080/",
          "height": 123
        }
      },
      "source": [
        "for w1 in ['cat', 'dog', 'dogs', 'paris', 'germany']:\n",
        "  print(w2v.word2vec.most_similar_cosmul(w1))"
      ],
      "execution_count": 0,
      "outputs": [
        {
          "output_type": "stream",
          "text": [
            "[('cats', 0.9049681425094604), ('dog', 0.8804720044136047), ('kitten', 0.8732484579086304), ('feline', 0.8663108348846436), ('beagle', 0.8575283288955688), ('puppy', 0.8537718653678894), ('pup', 0.8467137217521667), ('pet', 0.8445757627487183), ('felines', 0.8377957940101624), ('chihuahua', 0.8354873061180115)]\n",
            "[('dogs', 0.9340235590934753), ('puppy', 0.9053205847740173), ('pit_bull', 0.8901971578598022), ('pooch', 0.8813680410385132), ('cat', 0.8804720044136047), ('golden_retriever', 0.8750442862510681), ('German_shepherd', 0.8732578754425049), ('Rottweiler', 0.8718799352645874), ('beagle', 0.8709302544593811), ('pup', 0.8703446984291077)]\n",
            "[('dog', 0.9340235590934753), ('canines', 0.9090846180915833), ('cats', 0.8825874328613281), ('pit_bulls', 0.8774142861366272), ('pets', 0.8712201118469238), ('puppies', 0.8692987561225891), ('pooches', 0.8581174612045288), ('German_shepherds', 0.8535523414611816), ('animals', 0.8492838740348816), ('pit_bull', 0.8491798639297485)]\n",
            "[('london', 0.7777880430221558), ('france', 0.7775390148162842), ('dubai', 0.7766158580780029), ('rome', 0.7732911705970764), ('toronto', 0.7728569507598877), ('las_vegas', 0.7720862627029419), ('spain', 0.7690009474754333), ('berlin', 0.762671947479248), ('michelle', 0.7621249556541443), ('elle', 0.761517345905304)]\n",
            "[('german', 0.8404779434204102), ('europe', 0.8390600681304932), ('european', 0.8251047730445862), ('sweden', 0.8192111849784851), ('france', 0.8157169222831726), ('spain', 0.8143780827522278), ('russia', 0.8092007040977478), ('america', 0.8038331866264343), ('usa', 0.8033005595207214), ('india', 0.8012795448303223)]\n"
          ],
          "name": "stdout"
        }
      ]
    },
    {
      "cell_type": "markdown",
      "metadata": {
        "id": "g7ZmJ0g60xf3",
        "colab_type": "text"
      },
      "source": [
        "The first cell (the one not with the method most_similiar_cosmul) is less accruate by about 0.1-0.15 than the second cell. "
      ]
    },
    {
      "cell_type": "markdown",
      "metadata": {
        "colab_type": "text",
        "id": "PzI3DWdvT7-a"
      },
      "source": [
        "## 2. Bag of Words\n",
        "\n",
        "A quick solution to implement in NLP is Bag of Words. This means that we are going to consider the whole sentences without any word order. We are going to compute two solutions, one with idf and one without idf. \n",
        "\n",
        "First, we need to download the dataset. We are going to use the dataset from IMDB based on movie reviews."
      ]
    },
    {
      "cell_type": "code",
      "metadata": {
        "colab_type": "code",
        "id": "IZqTk7LcVGg_",
        "outputId": "ff03f0dc-4bba-43e8-97ad-f2a225521fd2",
        "colab": {
          "base_uri": "https://localhost:8080/",
          "height": 34
        }
      },
      "source": [
        "from keras.datasets import imdb"
      ],
      "execution_count": 0,
      "outputs": [
        {
          "output_type": "stream",
          "text": [
            "Using TensorFlow backend.\n"
          ],
          "name": "stderr"
        }
      ]
    },
    {
      "cell_type": "code",
      "metadata": {
        "colab_type": "code",
        "id": "eJuWViAhXS2B",
        "outputId": "7286c02c-af9f-4a5e-8d67-eaf14d39185a",
        "colab": {
          "base_uri": "https://localhost:8080/",
          "height": 51
        }
      },
      "source": [
        "(x_train, y_train), (x_test, y_test) = imdb.load_data(num_words=100000)"
      ],
      "execution_count": 0,
      "outputs": [
        {
          "output_type": "stream",
          "text": [
            "Downloading data from https://s3.amazonaws.com/text-datasets/imdb.npz\n",
            "17465344/17464789 [==============================] - 3s 0us/step\n"
          ],
          "name": "stdout"
        }
      ]
    },
    {
      "cell_type": "code",
      "metadata": {
        "colab_type": "code",
        "id": "pUqhdc3bYG1t",
        "outputId": "277544fc-a3fb-45ef-ef4f-2e8e67b0ea7c",
        "colab": {
          "base_uri": "https://localhost:8080/",
          "height": 89
        }
      },
      "source": [
        "INDEX_FROM = 3\n",
        "word_to_id = imdb.get_word_index()\n",
        "word_to_id = {k:(v+INDEX_FROM) for k,v in word_to_id.items()}\n",
        "word_to_id[\"<PAD>\"] = 0\n",
        "word_to_id[\"<START>\"] = 1\n",
        "word_to_id[\"<UNK>\"] = 2\n",
        "word_to_id[\"<UNUSED>\"] = 3\n",
        "\n",
        "id_to_word = {value:key for key,value in word_to_id.items()}\n",
        "print(' '.join(id_to_word[id] for id in x_train[0] if id > 2))"
      ],
      "execution_count": 0,
      "outputs": [
        {
          "output_type": "stream",
          "text": [
            "Downloading data from https://s3.amazonaws.com/text-datasets/imdb_word_index.json\n",
            "1646592/1641221 [==============================] - 1s 1us/step\n",
            "this film was just brilliant casting location scenery story direction everyone's really suited the part they played and you could just imagine being there robert redford's is an amazing actor and now the same being director norman's father came from the same scottish island as myself so i loved the fact there was a real connection with this film the witty remarks throughout the film were great it was just brilliant so much that i bought the film as soon as it was released for retail and would recommend it to everyone to watch and the fly fishing was amazing really cried at the end it was so sad and you know what they say if you cry at a film it must have been good and this definitely was also congratulations to the two little boy's that played the part's of norman and paul they were just brilliant children are often left out of the praising list i think because the stars that play them all grown up are such a big profile for the whole film but these children are amazing and should be praised for what they have done don't you think the whole story was so lovely because it was true and was someone's life after all that was shared with us all\n"
          ],
          "name": "stdout"
        }
      ]
    },
    {
      "cell_type": "code",
      "metadata": {
        "colab_type": "code",
        "id": "503TEXrWaHak",
        "outputId": "1c7f96c9-75cc-438e-ac73-56f547497223",
        "colab": {
          "base_uri": "https://localhost:8080/",
          "height": 34
        }
      },
      "source": [
        "truncated_sentences = []\n",
        "\n",
        "for sent_ind in range(1000):\n",
        "  sentence = [id_to_word[id] for id in x_train[sent_ind] if id > 2]\n",
        "  truncated_sentences.append(sentence[:15])\n",
        "\n",
        "print(truncated_sentences[0])"
      ],
      "execution_count": 0,
      "outputs": [
        {
          "output_type": "stream",
          "text": [
            "['this', 'film', 'was', 'just', 'brilliant', 'casting', 'location', 'scenery', 'story', 'direction', \"everyone's\", 'really', 'suited', 'the', 'part']\n"
          ],
          "name": "stdout"
        }
      ]
    },
    {
      "cell_type": "markdown",
      "metadata": {
        "colab_type": "text",
        "id": "xZtSrzGsQMYV"
      },
      "source": [
        "You will have to complete the following class. The methods are given but you'll have to complete them.\n",
        "\n",
        "*   *encode* : Encode the sentences with a Bag of Words algorithm using a simple mean or using an idf-weighted mean\n",
        "\n",
        "  Input : sentences to encode, a boolean defining if we are goinf to use the idf-weighted method.\n",
        "\n",
        "  Output : A matrix with the sentences embedding\n",
        "\n",
        "*   *most_similar* : Find the K most similar sentences in the corpus.\n",
        "\n",
        "  Input : a sentence s that need to be matched, a dataset of sentences, the idf boolean for the method and the number K of sentences to return\n",
        "\n",
        "  Output : The K most similar sentences\n",
        "\n",
        "*   *score :* Compute the cosine similarity between two vectors \n",
        "\n",
        "    Input : two words w1 and w2\n",
        "\n",
        "    Output : Cosine similarities between the two vectors corresponding to the two inputs\n",
        "\n",
        "*   *build_idf* : Compute an idf dictionnary with all the weights\n",
        "\n",
        "  $$idf(word, corpus) =  max(1, log_{10}(\\frac{length(sentences)}{count(word)}))$$\n",
        "\n",
        "    Input : Sentences from the corpus\n",
        "\n",
        "    Output : A dictionnary with words as keys and weights as values\n",
        "\n"
      ]
    },
    {
      "cell_type": "code",
      "metadata": {
        "colab_type": "code",
        "id": "6GicNUSNT9fc",
        "colab": {}
      },
      "source": [
        "import statistics\n",
        "\n",
        "def sortSecond(val): \n",
        "    return val[1] \n",
        "\n",
        "class BoV():\n",
        "    def __init__(self, w2v):\n",
        "        self.w2v = w2v\n",
        "    def encode(self, sentences, idf=False):\n",
        "\n",
        "        sentemb = []  \n",
        "        for sent in sentences:\n",
        "          mean_vector = []\n",
        "          idf_vector = []\n",
        "          #index = 0  \n",
        "\n",
        "          if idf is False:\n",
        "            \n",
        "            for word in sent:\n",
        "              \n",
        "              #print(word)\n",
        "              if word in word2vec.vocab:\n",
        "                word_embed = word2vec.word_vec(word)\n",
        "                mean_vector = mean_vector + [word_embed]\n",
        "              else:\n",
        "                if len(mean_vector) == 0:\n",
        "                  mean_vector = mean_vector + [0]\n",
        "            \n",
        "            sentemb.append(sum(mean_vector)/len(mean_vector))\n",
        "            \n",
        "            \n",
        "          else:\n",
        "            \n",
        "            for word in sent:\n",
        "              if word in word2vec.vocab:\n",
        "                word_embed = word2vec.word_vec(word)\n",
        "                idf_vector = idf_vector + [idf[word.lower()]*(sum(word_embed)/len(word_embed))]\n",
        "              else:\n",
        "                idf_vector = idf_vector + [idf[word.lower()]]\n",
        "            \n",
        "            sentemb.append(sum(idf_vector)/len(idf_vector))\n",
        "         \n",
        "        return np.vstack(sentemb)\n",
        "\n",
        "    def most_similar(self, s, sentences, idf=False, K=5):\n",
        "        keys = self.encode(sentences, idf)\n",
        "        query = self.encode([s], idf)\n",
        "\n",
        "        score_tab = []\n",
        "        i = 0\n",
        "        for key in keys:\n",
        "\n",
        "          score_tab.append((sentences[i], self.score(query,key)))\n",
        "          i = i + 1\n",
        "        \n",
        "        score_tab.sort(key = sortSecond, reverse=True)\n",
        "        \n",
        "        return score_tab[:K]\n",
        "\n",
        "    def score(self, s1, s2, idf=False):\n",
        "\n",
        "        cos_sim = np.dot(s1, s2)/np.linalg.norm(s1) * np.linalg.norm(list(s2))\n",
        "        return cos_sim\n",
        "    \n",
        "    def build_idf(self, sentences): #for each word, calculate the max of 1log and so on, compute the encode, then most_similar and score\n",
        "        idf = {}\n",
        "\n",
        "        for sent in sentences:\n",
        "          for word in sent:\n",
        "            word_count = 0\n",
        "            target_word = word\n",
        "            for sent2 in sentences:\n",
        "              word_count = word_count + sent2.count(target_word)\n",
        "            idf[target_word] = np.maximum(1, np.log10(len(sentences)/word_count))\n",
        "    \n",
        "        return idf"
      ],
      "execution_count": 0,
      "outputs": []
    },
    {
      "cell_type": "code",
      "metadata": {
        "colab_type": "code",
        "id": "0kUyVOoQZgTx",
        "colab": {}
      },
      "source": [
        "s2v = BoV(w2v)"
      ],
      "execution_count": 0,
      "outputs": []
    },
    {
      "cell_type": "code",
      "metadata": {
        "colab_type": "code",
        "id": "dhKszZreZgBo",
        "colab": {}
      },
      "source": [
        "idf = s2v.build_idf(truncated_sentences)"
      ],
      "execution_count": 0,
      "outputs": []
    },
    {
      "cell_type": "markdown",
      "metadata": {
        "colab_type": "text",
        "id": "20WZNn-qRdi1"
      },
      "source": [
        "Run the following cell and comment your result. Is that the output you expected ? To what extent, the similar sentence is good enough according to you ?"
      ]
    },
    {
      "cell_type": "markdown",
      "metadata": {
        "id": "SS4L_RX2tbO5",
        "colab_type": "text"
      },
      "source": [
        "This output is not what I expected, seeing as the first few sentences do not seem to be condemning the movie. Idf appears to work much better than non idf, with idf at least producing some negative critiques of the movie. The output is thus not exactly what I expected for non idf, but for idf it does appear to be good enough. "
      ]
    },
    {
      "cell_type": "code",
      "metadata": {
        "colab_type": "code",
        "id": "gS1vfwXbapRj",
        "outputId": "f824d011-bcaf-41ea-ca34-e799151db951",
        "colab": {
          "base_uri": "https://localhost:8080/",
          "height": 71
        }
      },
      "source": [
        "#You will be evaluated on the output of the following lines. You need to print the 5 most_similar sentences.\n",
        "most_similar_sentences = s2v.most_similar(\"This was the worst movie I ever seen in my life\".split(\" \"), truncated_sentences)\n",
        "print(most_similar_sentences)\n",
        "most_similar_sentences_idf = s2v.most_similar(\"This was the worst movie I ever seen in my life\".split(\" \"), truncated_sentences, idf)\n",
        "print(most_similar_sentences_idf)"
      ],
      "execution_count": 0,
      "outputs": [
        {
          "output_type": "stream",
          "text": [
            "[(['oh', 'my', 'god', 'i', 'bought', 'this', 'movie', 'and', 'i', 'watched', 'the', 'whole', 'thing', 'okay', \"it's\"], array([1.2397451], dtype=float32)), (['wow', 'what', 'would', 'you', 'do', 'with', '33m', 'let', 'me', 'give', 'you', 'a', 'choice', 'you', 'can'], array([1.1543801], dtype=float32)), (['i', 'think', 'that', 'this', 'movie', 'is', 'very', 'fun', 'and', 'horror', 'i', 'love', 'elvira', 'and', 'i'], array([1.1539967], dtype=float32)), (['this', 'movie', 'is', 'terrible', 'terrible', 'one', 'of', 'the', 'worst', 'movies', 'ever', 'i', 'cannot', 'even', 'imagine'], array([1.1418922], dtype=float32)), (['i', 'loved', 'this', 'movie', 'i', 'am', 'biased', 'seeing', 'as', 'i', 'am', 'a', 'huge', 'disney', 'fan'], array([1.1119549], dtype=float32))]\n",
            "[(['the', 'brak', 'show', 'is', 'good', 'probably', 'not', 'in', 'the', 'same', 'level', 'than', 'aqua', 'teen', 'hunger'], array([0.00019243])), (['netflix', 'should', 'mention', 'this', 'short', 'feature', 'on', 'the', 'info', 'for', 'silk', 'stockings', 'superior', 'in', 'every'], array([0.0001303])), (['the', 'scots', 'excel', 'at', 'storytelling', 'the', 'traditional', 'sort', 'many', 'years', 'after', 'the', 'event', 'i', 'can'], array([0.00012273])), (['this', 'show', 'is', 'awful', 'no', 'comedy', 'no', 'plot', 'no', 'good', 'characters', 'america', 'are', 'you', 'blind'], array([9.34519617e-05])), (['i', 'cant', 'believe', 'some', 'people', 'actually', 'like', 'this', 'yet', 'still', 'call', 'themselves', 'batman', 'fans', 'even'], array([9.25727843e-05]))]\n"
          ],
          "name": "stdout"
        }
      ]
    },
    {
      "cell_type": "markdown",
      "metadata": {
        "colab_type": "text",
        "id": "8ZGG6GRKnzf7"
      },
      "source": [
        "## 3. Translation\n",
        "\n",
        "One task that you can expect from an NLP application is to compute a quick translation. Creating advanced tools for translation is hard but there is an easy way to translate. We are going to compute a quick translation thanks to projection. We start from the assumption that the two languages have more or less the same shape. So with a simple mapping we should be able to translate automatically.\n",
        "\n",
        "You can visualise it with the gif from [here](https://engineering.fb.com/ai-research/unsupervised-machine-translation-a-novel-approach-to-provide-fast-accurate-translations-for-more-languages/). \n",
        "\n",
        "### Mapping\n",
        "\n",
        "Let's consider a bilingual dictionary (e.g French-English).\n",
        "\n",
        "Let's define **X** and **Y** the **French** and **English** matrices.\n",
        "\n",
        "They contain the embeddings associated to the words in the bilingual dictionary.\n",
        "\n",
        "We want to find a **mapping W** that will project the source word space (e.g French) to the target word space (e.g English).\n",
        "\n",
        "We want to find : $$W^* = argmin || W.X - Y || \\text{ such that } W^T.W = Id$$\n",
        "\n",
        "Fortunately, the problem has a closed form solution:\n",
        "$$W = U.V^T  \\text{ where }  U.\\Sigma.V^T = SVD(Y.X^T)$$\n",
        "\n",
        "\n",
        "First we need to download the data. Because of the limited RAM in google colab, we are going to only use the part of the model that we need. You have to run the following cells. It will take some time.\n",
        "\n",
        "WARNING : Bedore running the following cells, you should restart the the environnement to assert that your RAM is empty. It will clear the variables from the previous part. Otherwise, you might exceed the limitation.\n"
      ]
    },
    {
      "cell_type": "code",
      "metadata": {
        "colab_type": "code",
        "id": "kNMgEqf496Gh",
        "outputId": "f4e646fd-64d6-4bd4-f3aa-8ba55e1d38da",
        "colab": {
          "base_uri": "https://localhost:8080/",
          "height": 255
        }
      },
      "source": [
        "!wget -P /root/input/ -c https://dl.fbaipublicfiles.com/fasttext/vectors-crawl/cc.fr.300.bin.gz\n",
        "!wget -P /root/input/ -c https://dl.fbaipublicfiles.com/fasttext/vectors-crawl/cc.en.300.bin.gz\n"
      ],
      "execution_count": 5,
      "outputs": [
        {
          "output_type": "stream",
          "text": [
            "--2020-05-27 19:35:57--  https://dl.fbaipublicfiles.com/fasttext/vectors-crawl/cc.fr.300.bin.gz\n",
            "Resolving dl.fbaipublicfiles.com (dl.fbaipublicfiles.com)... 104.22.75.142, 104.22.74.142, 2606:4700:10::6816:4a8e, ...\n",
            "Connecting to dl.fbaipublicfiles.com (dl.fbaipublicfiles.com)|104.22.75.142|:443... connected.\n",
            "HTTP request sent, awaiting response... 416 Requested Range Not Satisfiable\n",
            "\n",
            "    The file is already fully retrieved; nothing to do.\n",
            "\n",
            "--2020-05-27 19:36:00--  https://dl.fbaipublicfiles.com/fasttext/vectors-crawl/cc.en.300.bin.gz\n",
            "Resolving dl.fbaipublicfiles.com (dl.fbaipublicfiles.com)... 104.22.75.142, 104.22.74.142, 2606:4700:10::6816:4a8e, ...\n",
            "Connecting to dl.fbaipublicfiles.com (dl.fbaipublicfiles.com)|104.22.75.142|:443... connected.\n",
            "HTTP request sent, awaiting response... 416 Requested Range Not Satisfiable\n",
            "\n",
            "    The file is already fully retrieved; nothing to do.\n",
            "\n"
          ],
          "name": "stdout"
        }
      ]
    },
    {
      "cell_type": "markdown",
      "metadata": {
        "id": "CFsrRdSwtQLz",
        "colab_type": "text"
      },
      "source": [
        "Run time taking forever for unknown reasons. "
      ]
    },
    {
      "cell_type": "code",
      "metadata": {
        "colab_type": "code",
        "id": "NKEh-gdJAl8C",
        "outputId": "97e160e1-e0a8-4461-ca0f-263ea8507b3a",
        "colab": {
          "base_uri": "https://localhost:8080/",
          "height": 358
        }
      },
      "source": [
        "!gunzip -k /root/input/cc.fr.300.bin.gz\n",
        "!gunzip -k /root/input/cc.en.300.bin.gz"
      ],
      "execution_count": 2,
      "outputs": [
        {
          "output_type": "stream",
          "text": [
            "gzip: /root/input/cc.fr.300.bin already exists; do you wish to overwrite (y or n)? y\n",
            "gzip: /root/input/cc.en.300.bin already exists; do you wish to overwrite (y or n)? "
          ],
          "name": "stdout"
        },
        {
          "output_type": "error",
          "ename": "KeyboardInterrupt",
          "evalue": "ignored",
          "traceback": [
            "\u001b[0;31m---------------------------------------------------------------------------\u001b[0m",
            "\u001b[0;31mKeyboardInterrupt\u001b[0m                         Traceback (most recent call last)",
            "\u001b[0;32m<ipython-input-2-a54f89786d9d>\u001b[0m in \u001b[0;36m<module>\u001b[0;34m()\u001b[0m\n\u001b[1;32m      1\u001b[0m \u001b[0mget_ipython\u001b[0m\u001b[0;34m(\u001b[0m\u001b[0;34m)\u001b[0m\u001b[0;34m.\u001b[0m\u001b[0msystem\u001b[0m\u001b[0;34m(\u001b[0m\u001b[0;34m'gunzip -k /root/input/cc.fr.300.bin.gz'\u001b[0m\u001b[0;34m)\u001b[0m\u001b[0;34m\u001b[0m\u001b[0;34m\u001b[0m\u001b[0m\n\u001b[0;32m----> 2\u001b[0;31m \u001b[0mget_ipython\u001b[0m\u001b[0;34m(\u001b[0m\u001b[0;34m)\u001b[0m\u001b[0;34m.\u001b[0m\u001b[0msystem\u001b[0m\u001b[0;34m(\u001b[0m\u001b[0;34m'gunzip -k /root/input/cc.en.300.bin.gz'\u001b[0m\u001b[0;34m)\u001b[0m\u001b[0;34m\u001b[0m\u001b[0;34m\u001b[0m\u001b[0m\n\u001b[0m",
            "\u001b[0;32m/usr/local/lib/python3.6/dist-packages/google/colab/_shell.py\u001b[0m in \u001b[0;36msystem\u001b[0;34m(self, *args, **kwargs)\u001b[0m\n\u001b[1;32m    100\u001b[0m       \u001b[0mkwargs\u001b[0m\u001b[0;34m.\u001b[0m\u001b[0mupdate\u001b[0m\u001b[0;34m(\u001b[0m\u001b[0;34m{\u001b[0m\u001b[0;34m'also_return_output'\u001b[0m\u001b[0;34m:\u001b[0m \u001b[0;32mTrue\u001b[0m\u001b[0;34m}\u001b[0m\u001b[0;34m)\u001b[0m\u001b[0;34m\u001b[0m\u001b[0;34m\u001b[0m\u001b[0m\n\u001b[1;32m    101\u001b[0m \u001b[0;34m\u001b[0m\u001b[0m\n\u001b[0;32m--> 102\u001b[0;31m     \u001b[0moutput\u001b[0m \u001b[0;34m=\u001b[0m \u001b[0m_system_commands\u001b[0m\u001b[0;34m.\u001b[0m\u001b[0m_system_compat\u001b[0m\u001b[0;34m(\u001b[0m\u001b[0mself\u001b[0m\u001b[0;34m,\u001b[0m \u001b[0;34m*\u001b[0m\u001b[0margs\u001b[0m\u001b[0;34m,\u001b[0m \u001b[0;34m**\u001b[0m\u001b[0mkwargs\u001b[0m\u001b[0;34m)\u001b[0m  \u001b[0;31m# pylint:disable=protected-access\u001b[0m\u001b[0;34m\u001b[0m\u001b[0;34m\u001b[0m\u001b[0m\n\u001b[0m\u001b[1;32m    103\u001b[0m \u001b[0;34m\u001b[0m\u001b[0m\n\u001b[1;32m    104\u001b[0m     \u001b[0;32mif\u001b[0m \u001b[0mpip_warn\u001b[0m\u001b[0;34m:\u001b[0m\u001b[0;34m\u001b[0m\u001b[0;34m\u001b[0m\u001b[0m\n",
            "\u001b[0;32m/usr/local/lib/python3.6/dist-packages/google/colab/_system_commands.py\u001b[0m in \u001b[0;36m_system_compat\u001b[0;34m(shell, cmd, also_return_output)\u001b[0m\n\u001b[1;32m    436\u001b[0m   \u001b[0;31m# stack.\u001b[0m\u001b[0;34m\u001b[0m\u001b[0;34m\u001b[0m\u001b[0;34m\u001b[0m\u001b[0m\n\u001b[1;32m    437\u001b[0m   result = _run_command(\n\u001b[0;32m--> 438\u001b[0;31m       shell.var_expand(cmd, depth=2), clear_streamed_output=False)\n\u001b[0m\u001b[1;32m    439\u001b[0m   \u001b[0mshell\u001b[0m\u001b[0;34m.\u001b[0m\u001b[0muser_ns\u001b[0m\u001b[0;34m[\u001b[0m\u001b[0;34m'_exit_code'\u001b[0m\u001b[0;34m]\u001b[0m \u001b[0;34m=\u001b[0m \u001b[0mresult\u001b[0m\u001b[0;34m.\u001b[0m\u001b[0mreturncode\u001b[0m\u001b[0;34m\u001b[0m\u001b[0;34m\u001b[0m\u001b[0m\n\u001b[1;32m    440\u001b[0m   \u001b[0;32mif\u001b[0m \u001b[0;34m-\u001b[0m\u001b[0mresult\u001b[0m\u001b[0;34m.\u001b[0m\u001b[0mreturncode\u001b[0m \u001b[0;32min\u001b[0m \u001b[0m_INTERRUPTED_SIGNALS\u001b[0m\u001b[0;34m:\u001b[0m\u001b[0;34m\u001b[0m\u001b[0;34m\u001b[0m\u001b[0m\n",
            "\u001b[0;32m/usr/local/lib/python3.6/dist-packages/google/colab/_system_commands.py\u001b[0m in \u001b[0;36m_run_command\u001b[0;34m(cmd, clear_streamed_output)\u001b[0m\n\u001b[1;32m    193\u001b[0m       \u001b[0mos\u001b[0m\u001b[0;34m.\u001b[0m\u001b[0mclose\u001b[0m\u001b[0;34m(\u001b[0m\u001b[0mchild_pty\u001b[0m\u001b[0;34m)\u001b[0m\u001b[0;34m\u001b[0m\u001b[0;34m\u001b[0m\u001b[0m\n\u001b[1;32m    194\u001b[0m \u001b[0;34m\u001b[0m\u001b[0m\n\u001b[0;32m--> 195\u001b[0;31m       \u001b[0;32mreturn\u001b[0m \u001b[0m_monitor_process\u001b[0m\u001b[0;34m(\u001b[0m\u001b[0mparent_pty\u001b[0m\u001b[0;34m,\u001b[0m \u001b[0mepoll\u001b[0m\u001b[0;34m,\u001b[0m \u001b[0mp\u001b[0m\u001b[0;34m,\u001b[0m \u001b[0mcmd\u001b[0m\u001b[0;34m,\u001b[0m \u001b[0mupdate_stdin_widget\u001b[0m\u001b[0;34m)\u001b[0m\u001b[0;34m\u001b[0m\u001b[0;34m\u001b[0m\u001b[0m\n\u001b[0m\u001b[1;32m    196\u001b[0m   \u001b[0;32mfinally\u001b[0m\u001b[0;34m:\u001b[0m\u001b[0;34m\u001b[0m\u001b[0;34m\u001b[0m\u001b[0m\n\u001b[1;32m    197\u001b[0m     \u001b[0mepoll\u001b[0m\u001b[0;34m.\u001b[0m\u001b[0mclose\u001b[0m\u001b[0;34m(\u001b[0m\u001b[0;34m)\u001b[0m\u001b[0;34m\u001b[0m\u001b[0;34m\u001b[0m\u001b[0m\n",
            "\u001b[0;32m/usr/lib/python3.6/contextlib.py\u001b[0m in \u001b[0;36m__exit__\u001b[0;34m(self, type, value, traceback)\u001b[0m\n\u001b[1;32m     86\u001b[0m         \u001b[0;32mif\u001b[0m \u001b[0mtype\u001b[0m \u001b[0;32mis\u001b[0m \u001b[0;32mNone\u001b[0m\u001b[0;34m:\u001b[0m\u001b[0;34m\u001b[0m\u001b[0;34m\u001b[0m\u001b[0m\n\u001b[1;32m     87\u001b[0m             \u001b[0;32mtry\u001b[0m\u001b[0;34m:\u001b[0m\u001b[0;34m\u001b[0m\u001b[0;34m\u001b[0m\u001b[0m\n\u001b[0;32m---> 88\u001b[0;31m                 \u001b[0mnext\u001b[0m\u001b[0;34m(\u001b[0m\u001b[0mself\u001b[0m\u001b[0;34m.\u001b[0m\u001b[0mgen\u001b[0m\u001b[0;34m)\u001b[0m\u001b[0;34m\u001b[0m\u001b[0;34m\u001b[0m\u001b[0m\n\u001b[0m\u001b[1;32m     89\u001b[0m             \u001b[0;32mexcept\u001b[0m \u001b[0mStopIteration\u001b[0m\u001b[0;34m:\u001b[0m\u001b[0;34m\u001b[0m\u001b[0;34m\u001b[0m\u001b[0m\n\u001b[1;32m     90\u001b[0m                 \u001b[0;32mreturn\u001b[0m \u001b[0;32mFalse\u001b[0m\u001b[0;34m\u001b[0m\u001b[0;34m\u001b[0m\u001b[0m\n",
            "\u001b[0;32m/usr/local/lib/python3.6/dist-packages/google/colab/_system_commands.py\u001b[0m in \u001b[0;36m_display_stdin_widget\u001b[0;34m(delay_millis)\u001b[0m\n\u001b[1;32m    353\u001b[0m \u001b[0;34m\u001b[0m\u001b[0m\n\u001b[1;32m    354\u001b[0m   \u001b[0mhide_args\u001b[0m \u001b[0;34m=\u001b[0m \u001b[0;34m[\u001b[0m\u001b[0;34m'cell_remove_stdin'\u001b[0m\u001b[0;34m,\u001b[0m \u001b[0;34m{\u001b[0m\u001b[0;34m}\u001b[0m\u001b[0;34m]\u001b[0m\u001b[0;34m\u001b[0m\u001b[0;34m\u001b[0m\u001b[0m\n\u001b[0;32m--> 355\u001b[0;31m   \u001b[0m_message\u001b[0m\u001b[0;34m.\u001b[0m\u001b[0mblocking_request\u001b[0m\u001b[0;34m(\u001b[0m\u001b[0;34m*\u001b[0m\u001b[0mhide_args\u001b[0m\u001b[0;34m,\u001b[0m \u001b[0mparent\u001b[0m\u001b[0;34m=\u001b[0m\u001b[0mshell\u001b[0m\u001b[0;34m.\u001b[0m\u001b[0mparent_header\u001b[0m\u001b[0;34m)\u001b[0m\u001b[0;34m\u001b[0m\u001b[0;34m\u001b[0m\u001b[0m\n\u001b[0m\u001b[1;32m    356\u001b[0m \u001b[0;34m\u001b[0m\u001b[0m\n\u001b[1;32m    357\u001b[0m \u001b[0;34m\u001b[0m\u001b[0m\n",
            "\u001b[0;32m/usr/local/lib/python3.6/dist-packages/google/colab/_message.py\u001b[0m in \u001b[0;36mblocking_request\u001b[0;34m(request_type, request, timeout_sec, parent)\u001b[0m\n\u001b[1;32m    169\u001b[0m   \u001b[0;31m# unique.\u001b[0m\u001b[0;34m\u001b[0m\u001b[0;34m\u001b[0m\u001b[0;34m\u001b[0m\u001b[0m\n\u001b[1;32m    170\u001b[0m   \u001b[0mrequest_id\u001b[0m \u001b[0;34m=\u001b[0m \u001b[0msend_request\u001b[0m\u001b[0;34m(\u001b[0m\u001b[0mrequest_type\u001b[0m\u001b[0;34m,\u001b[0m \u001b[0mrequest\u001b[0m\u001b[0;34m,\u001b[0m \u001b[0mparent\u001b[0m\u001b[0;34m=\u001b[0m\u001b[0mparent\u001b[0m\u001b[0;34m)\u001b[0m\u001b[0;34m\u001b[0m\u001b[0;34m\u001b[0m\u001b[0m\n\u001b[0;32m--> 171\u001b[0;31m   \u001b[0;32mreturn\u001b[0m \u001b[0mread_reply_from_input\u001b[0m\u001b[0;34m(\u001b[0m\u001b[0mrequest_id\u001b[0m\u001b[0;34m,\u001b[0m \u001b[0mtimeout_sec\u001b[0m\u001b[0;34m)\u001b[0m\u001b[0;34m\u001b[0m\u001b[0;34m\u001b[0m\u001b[0m\n\u001b[0m",
            "\u001b[0;32m/usr/local/lib/python3.6/dist-packages/google/colab/_message.py\u001b[0m in \u001b[0;36mread_reply_from_input\u001b[0;34m(message_id, timeout_sec)\u001b[0m\n\u001b[1;32m     99\u001b[0m     \u001b[0mreply\u001b[0m \u001b[0;34m=\u001b[0m \u001b[0m_read_next_input_message\u001b[0m\u001b[0;34m(\u001b[0m\u001b[0;34m)\u001b[0m\u001b[0;34m\u001b[0m\u001b[0;34m\u001b[0m\u001b[0m\n\u001b[1;32m    100\u001b[0m     \u001b[0;32mif\u001b[0m \u001b[0mreply\u001b[0m \u001b[0;34m==\u001b[0m \u001b[0m_NOT_READY\u001b[0m \u001b[0;32mor\u001b[0m \u001b[0;32mnot\u001b[0m \u001b[0misinstance\u001b[0m\u001b[0;34m(\u001b[0m\u001b[0mreply\u001b[0m\u001b[0;34m,\u001b[0m \u001b[0mdict\u001b[0m\u001b[0;34m)\u001b[0m\u001b[0;34m:\u001b[0m\u001b[0;34m\u001b[0m\u001b[0;34m\u001b[0m\u001b[0m\n\u001b[0;32m--> 101\u001b[0;31m       \u001b[0mtime\u001b[0m\u001b[0;34m.\u001b[0m\u001b[0msleep\u001b[0m\u001b[0;34m(\u001b[0m\u001b[0;36m0.025\u001b[0m\u001b[0;34m)\u001b[0m\u001b[0;34m\u001b[0m\u001b[0;34m\u001b[0m\u001b[0m\n\u001b[0m\u001b[1;32m    102\u001b[0m       \u001b[0;32mcontinue\u001b[0m\u001b[0;34m\u001b[0m\u001b[0;34m\u001b[0m\u001b[0m\n\u001b[1;32m    103\u001b[0m     if (reply.get('type') == 'colab_reply' and\n",
            "\u001b[0;31mKeyboardInterrupt\u001b[0m: "
          ]
        }
      ]
    },
    {
      "cell_type": "code",
      "metadata": {
        "colab_type": "code",
        "id": "eyywOx-PHe96",
        "colab": {}
      },
      "source": [
        "import gensim.models"
      ],
      "execution_count": 0,
      "outputs": []
    },
    {
      "cell_type": "code",
      "metadata": {
        "colab_type": "code",
        "id": "vZ1De7OLSk_E",
        "colab": {}
      },
      "source": [
        "ft = gensim.models.FastText.load_fasttext_format('/root/input/cc.fr.300.bin')  # Original fasttext embeddings from https://fasttext.cc/\n",
        "ft.wv.save('/root/input/gensim_fasttext_fr.model')\n",
        "#del ft"
      ],
      "execution_count": 0,
      "outputs": []
    },
    {
      "cell_type": "code",
      "metadata": {
        "colab_type": "code",
        "id": "wYMPFA5YHuUe",
        "colab": {
          "base_uri": "https://localhost:8080/",
          "height": 198
        },
        "outputId": "c8d51850-0417-4505-81d3-bdef77b9cf82"
      },
      "source": [
        "ft = gensim.models.FastText.load_fasttext_format('/root/input/cc.en.300.bin')  # Original fasttext embeddings from https://fasttext.cc/\n",
        "ft.wv.save('/root/input/gensim_fasttext_en.model')\n",
        "#del ft"
      ],
      "execution_count": 1,
      "outputs": [
        {
          "output_type": "error",
          "ename": "NameError",
          "evalue": "ignored",
          "traceback": [
            "\u001b[0;31m---------------------------------------------------------------------------\u001b[0m",
            "\u001b[0;31mNameError\u001b[0m                                 Traceback (most recent call last)",
            "\u001b[0;32m<ipython-input-1-8a9397766639>\u001b[0m in \u001b[0;36m<module>\u001b[0;34m()\u001b[0m\n\u001b[0;32m----> 1\u001b[0;31m \u001b[0mft\u001b[0m \u001b[0;34m=\u001b[0m \u001b[0mgensim\u001b[0m\u001b[0;34m.\u001b[0m\u001b[0mmodels\u001b[0m\u001b[0;34m.\u001b[0m\u001b[0mFastText\u001b[0m\u001b[0;34m.\u001b[0m\u001b[0mload_fasttext_format\u001b[0m\u001b[0;34m(\u001b[0m\u001b[0;34m'/root/input/cc.en.300.bin'\u001b[0m\u001b[0;34m)\u001b[0m  \u001b[0;31m# Original fasttext embeddings from https://fasttext.cc/\u001b[0m\u001b[0;34m\u001b[0m\u001b[0;34m\u001b[0m\u001b[0m\n\u001b[0m\u001b[1;32m      2\u001b[0m \u001b[0mft\u001b[0m\u001b[0;34m.\u001b[0m\u001b[0mwv\u001b[0m\u001b[0;34m.\u001b[0m\u001b[0msave\u001b[0m\u001b[0;34m(\u001b[0m\u001b[0;34m'/root/input/gensim_fasttext_en.model'\u001b[0m\u001b[0;34m)\u001b[0m\u001b[0;34m\u001b[0m\u001b[0;34m\u001b[0m\u001b[0m\n\u001b[1;32m      3\u001b[0m \u001b[0;31m#del ft\u001b[0m\u001b[0;34m\u001b[0m\u001b[0;34m\u001b[0m\u001b[0;34m\u001b[0m\u001b[0m\n",
            "\u001b[0;31mNameError\u001b[0m: name 'gensim' is not defined"
          ]
        }
      ]
    },
    {
      "cell_type": "code",
      "metadata": {
        "colab_type": "code",
        "id": "5kDc0gSW7nqr",
        "colab": {}
      },
      "source": [
        "ft_french = gensim.models.KeyedVectors.load('/root/input/gensim_fasttext_fr.model')\n",
        "ft_english = gensim.models.KeyedVectors.load('/root/input/gensim_fasttext_en.model')"
      ],
      "execution_count": 0,
      "outputs": []
    },
    {
      "cell_type": "markdown",
      "metadata": {
        "colab_type": "text",
        "id": "H40m3SbHYQFI"
      },
      "source": [
        "You can now test your model contained in ft_french and ft_english."
      ]
    },
    {
      "cell_type": "code",
      "metadata": {
        "colab_type": "code",
        "id": "51J115OMAOH5",
        "colab": {}
      },
      "source": [
        "#You can test if your model is working\n",
        "\n",
        "#print(ft_french.words[:10])   # list of words in dictionary\n",
        "print(ft_french['roi']) # get the vector of the word 'king'"
      ],
      "execution_count": 0,
      "outputs": []
    },
    {
      "cell_type": "markdown",
      "metadata": {
        "colab_type": "text",
        "id": "DHU3m-08YxaE"
      },
      "source": [
        "Now we can start the translation. The first step is to define the X and Y matrix. Instead of computing the whole vocabulary, we are going to use a trick. We need to assert that the words are in the same position in X and Y. \n",
        "\n",
        "For the example if \"dog\" is the 100th word in X, \"chien\" should be the 100th word. To do so, we are going to use transparent words only. We have the strong assumption that if a word exists in both languages it should have the same meaning in both of them.\n",
        "\n",
        "Compute the intersection of the two vocabulary and store the first **20000 common words** with their embeddings in X and Y. "
      ]
    },
    {
      "cell_type": "code",
      "metadata": {
        "id": "AAbJM5rCV0kA",
        "colab_type": "code",
        "colab": {}
      },
      "source": [
        "X = {}\n",
        "Y = {}\n",
        "\n",
        "#TODO\n",
        "count=0;\n",
        "condition=False\n",
        "for fw in ft_french.vocab:\n",
        "  if condition:\n",
        "    break;\n",
        "  for ew in ft_english.vocab:\n",
        "    if fw==ew:\n",
        "      X[fw]=ft_french[fw];\n",
        "      Y[ew]=ft_english[ew];\n",
        "      count+=1;  \n",
        "      if count==20000: #20,000 most common words\n",
        "        condition=True\n",
        "        break;\n"
      ],
      "execution_count": 0,
      "outputs": []
    },
    {
      "cell_type": "markdown",
      "metadata": {
        "colab_type": "text",
        "id": "Yljm760SZzzQ"
      },
      "source": [
        "Now compute W with the given close form. The shape of W should be (300, 300)"
      ]
    },
    {
      "cell_type": "code",
      "metadata": {
        "colab_type": "code",
        "id": "TDejtYtG8A-O",
        "colab": {}
      },
      "source": [
        "import scipy.linalg\n",
        "import numpy as np\n",
        "\n",
        "#TODO\n",
        "Xmat=[]\n",
        "Ymat=[]\n",
        "for x in X.values():\n",
        "    Xmat.append(x)\n",
        "for y in Y.values():\n",
        "    Ymat.append(y)\n",
        "\n",
        "Xmat= np.array(Xmat)\n",
        "Ymat= np.array(Ymat)\n",
        "\n",
        "print(Xmat.shape)\n",
        "print(Ymat.shape)\n",
        "\n",
        "u,s,wt = np.linalg.svd(np.dot(Ymat,Xmat.T),full_matrices=False) \n",
        "W = np.dot(u,wt)\n",
        "\n",
        "W.resize(300, 300) #resize to 300,300\n",
        "print(W.shape)"
      ],
      "execution_count": 0,
      "outputs": []
    },
    {
      "cell_type": "markdown",
      "metadata": {
        "colab_type": "text",
        "id": "TStieykhQ77Z"
      },
      "source": [
        "Run the following cell and comment your result. Is that the output you expected ? Why ?"
      ]
    },
    {
      "cell_type": "code",
      "metadata": {
        "colab_type": "code",
        "id": "S9LysDfIQuU4",
        "colab": {}
      },
      "source": [
        "K = 5\n",
        "\n",
        "#You will be evaluated on the following outputs\n",
        "\n",
        "def score(value1, value2):\n",
        "  return np.dot(value1, value2)/(np.linalg.norm(value1)*np.linalg.norm(value2))\n",
        "\n",
        "print(\"French to English : \")\n",
        "print()\n",
        "for w1 in ['souris', 'travailler', 'rue', 'pays']:\n",
        "    # Compute the projection of each word and find the 5 closest word in the English vocabulary\n",
        "    print()#Print the list of the 5 best outputs for each word\n",
        "\n",
        "print()\n",
        "print(\"English to French : \")\n",
        "for w2 in ['cat', 'target', 'city', 'free']:\n",
        "    # Compute the projection of each word and find the 5 closest word in the French vocabulary\n",
        "    print()#Print the list of the 5 best outputs for each word\n"
      ],
      "execution_count": 0,
      "outputs": []
    },
    {
      "cell_type": "markdown",
      "metadata": {
        "colab_type": "text",
        "id": "eCSdbk3YaRBI"
      },
      "source": [
        "WARNING : When you have finished the previous part, you can delete the two model to free the RAM before the next part. Don't delete them before you have finished the previous question, otherwise, you'll have to recompute all the downloading part."
      ]
    },
    {
      "cell_type": "code",
      "metadata": {
        "colab_type": "code",
        "id": "TNwgBJ5-SMpC",
        "colab": {}
      },
      "source": [
        "del ft_french\n",
        "del ft_english"
      ],
      "execution_count": 0,
      "outputs": []
    },
    {
      "cell_type": "markdown",
      "metadata": {
        "colab_type": "text",
        "id": "G9ta4JGrWC52"
      },
      "source": [
        "## 4. Classification\n",
        "\n",
        "We are now starting the Deep Learning part with a classification task. We have a dataset from IMDB with movie reviews. We are going to build a simple classifier. The objective is to make a binary classifier to separate positive from negative reviews."
      ]
    },
    {
      "cell_type": "code",
      "metadata": {
        "colab_type": "code",
        "id": "CA6nKkjVa91w",
        "colab": {}
      },
      "source": [
        "import numpy as np\n",
        "import tensorflow as tf\n",
        "top_words = 5000\n",
        "(X_train, y_train), (X_test, y_test) = tf.keras.datasets.imdb.load_data(num_words=top_words)"
      ],
      "execution_count": 0,
      "outputs": []
    },
    {
      "cell_type": "code",
      "metadata": {
        "colab_type": "code",
        "id": "-FOAzoTccxGo",
        "colab": {}
      },
      "source": [
        "max_review_length = 500\n",
        "X_train = tf.keras.preprocessing.sequence.pad_sequences(X_train, maxlen=max_review_length)\n",
        "X_test = tf.keras.preprocessing.sequence.pad_sequences(X_test, maxlen=max_review_length)"
      ],
      "execution_count": 0,
      "outputs": []
    },
    {
      "cell_type": "markdown",
      "metadata": {
        "colab_type": "text",
        "id": "2x2b3LvLd8rd"
      },
      "source": [
        "The first model that you need to compute is a simple feed forward neural network.\n",
        "\n",
        "- Use the following layers to build your network\n",
        "  - An embedding layer with top_words = 5000, an embedding vector length of 32 and a max reviex length of 500\n",
        "  - A fully-connected layer with 16 units and a ReLU activiation function\n",
        "  - An output fully-connected layer with one unit and a Sigmoid activation function.\n",
        "- Compile the generator using binary crossentropy loss and the Adam optimizer \n",
        "- Train on the data with 20 epochs\n",
        "- Compute the accuracy with model.evaluate\n",
        "- Plot the history of the loss versus the epoch number"
      ]
    },
    {
      "cell_type": "code",
      "metadata": {
        "colab_type": "code",
        "id": "tI-2p_6scxB4",
        "outputId": "d1718791-e65d-4c2a-c9f6-74cbd061775f",
        "colab": {
          "base_uri": "https://localhost:8080/",
          "height": 745
        }
      },
      "source": [
        "from tensorflow.keras.models import Sequential\n",
        "from tensorflow.keras.layers import Dense\n",
        "from tensorflow.keras.layers import Embedding\n",
        "from tensorflow.keras.preprocessing import sequence\n",
        "\n",
        "model = Sequential()\n",
        "model.add(Embedding(5000, 32, input_length = 500))\n",
        "model.add(Dense(16, activation='relu'))\n",
        "model.add(Dense(1, activation='sigmoid'))\n",
        "\n",
        "model.compile(loss='binary_crossentropy', optimizer='adam', metrics=['accuracy'])\n",
        "\n",
        "history = model.fit(X_train, y_train,\n",
        "                    epochs=20,\n",
        ")\n",
        "\n",
        "results = model.evaluate(X_test, y_test, batch_size=128)\n",
        "print('test loss, test acc:', results)"
      ],
      "execution_count": 0,
      "outputs": [
        {
          "output_type": "stream",
          "text": [
            "Epoch 1/20\n",
            "782/782 [==============================] - 6s 7ms/step - loss: 0.6892 - accuracy: 0.5194\n",
            "Epoch 2/20\n",
            "782/782 [==============================] - 6s 7ms/step - loss: 0.6878 - accuracy: 0.5235\n",
            "Epoch 3/20\n",
            "782/782 [==============================] - 6s 7ms/step - loss: 0.6877 - accuracy: 0.5216\n",
            "Epoch 4/20\n",
            "782/782 [==============================] - 6s 7ms/step - loss: 0.6877 - accuracy: 0.5227\n",
            "Epoch 5/20\n",
            "782/782 [==============================] - 6s 7ms/step - loss: 0.6876 - accuracy: 0.5213\n",
            "Epoch 6/20\n",
            "782/782 [==============================] - 6s 7ms/step - loss: 0.6876 - accuracy: 0.5221\n",
            "Epoch 7/20\n",
            "782/782 [==============================] - 6s 7ms/step - loss: 0.6876 - accuracy: 0.5245\n",
            "Epoch 8/20\n",
            "782/782 [==============================] - 6s 7ms/step - loss: 0.6876 - accuracy: 0.5205\n",
            "Epoch 9/20\n",
            "782/782 [==============================] - 6s 7ms/step - loss: 0.6875 - accuracy: 0.5220\n",
            "Epoch 10/20\n",
            "782/782 [==============================] - 6s 7ms/step - loss: 0.6876 - accuracy: 0.5243\n",
            "Epoch 11/20\n",
            "782/782 [==============================] - 6s 7ms/step - loss: 0.6876 - accuracy: 0.5245\n",
            "Epoch 12/20\n",
            "782/782 [==============================] - 5s 7ms/step - loss: 0.6875 - accuracy: 0.5234\n",
            "Epoch 13/20\n",
            "782/782 [==============================] - 6s 7ms/step - loss: 0.6876 - accuracy: 0.5231\n",
            "Epoch 14/20\n",
            "782/782 [==============================] - 6s 7ms/step - loss: 0.6875 - accuracy: 0.5228\n",
            "Epoch 15/20\n",
            "782/782 [==============================] - 6s 7ms/step - loss: 0.6876 - accuracy: 0.5238\n",
            "Epoch 16/20\n",
            "782/782 [==============================] - 5s 7ms/step - loss: 0.6875 - accuracy: 0.5236\n",
            "Epoch 17/20\n",
            "782/782 [==============================] - 6s 7ms/step - loss: 0.6875 - accuracy: 0.5207\n",
            "Epoch 18/20\n",
            "782/782 [==============================] - 6s 7ms/step - loss: 0.6875 - accuracy: 0.5243\n",
            "Epoch 19/20\n",
            "782/782 [==============================] - 6s 7ms/step - loss: 0.6875 - accuracy: 0.5226\n",
            "Epoch 20/20\n",
            "782/782 [==============================] - 6s 7ms/step - loss: 0.6875 - accuracy: 0.5211\n",
            "196/196 [==============================] - 1s 5ms/step - loss: 0.6885 - accuracy: 0.5196\n",
            "test loss, test acc: [0.6885230541229248, 0.5196367502212524]\n"
          ],
          "name": "stdout"
        }
      ]
    },
    {
      "cell_type": "code",
      "metadata": {
        "id": "P4_lkYQvQ_Kp",
        "colab_type": "code",
        "outputId": "46c8fd0e-3628-4d46-a683-a5a33028371d",
        "colab": {
          "base_uri": "https://localhost:8080/",
          "height": 281
        }
      },
      "source": [
        "import matplotlib.pyplot as plt\n",
        "\n",
        "acc = history.history['accuracy']\n",
        "loss = history.history['loss']\n",
        "\n",
        "epochs = range(len(acc))\n",
        "\n",
        "plt.figure()\n",
        "\n",
        "plt.plot(epochs, loss, 'bo', label='Training loss')\n",
        "plt.title('Training Loss x Epochs')\n",
        "plt.legend()\n",
        "\n",
        "plt.show()"
      ],
      "execution_count": 0,
      "outputs": [
        {
          "output_type": "display_data",
          "data": {
            "image/png": "[encoded data removed]",
            "text/plain": [
              "<Figure size 432x288 with 1 Axes>"
            ]
          },
          "metadata": {
            "tags": [],
            "needs_background": "light"
          }
        }
      ]
    },
    {
      "cell_type": "markdown",
      "metadata": {
        "colab_type": "text",
        "id": "JvvnYHBCfj04"
      },
      "source": [
        "The second model will be based on LSTMs.\n",
        "\n",
        "- Use the following layers to build your network\n",
        "  - An embedding layer with top_words = 5000, an embedding vector length of 32 and a max reviex length of 500\n",
        "  - A Dropout layer with dropout ratio of 0.2\n",
        "  - An LSTM layer with 100 units\n",
        "  - A Dropout layer with dropout ratio of 0.2\n",
        "  - An output fully-connected layer with one unit and a Sigmoid activation function.\n",
        "- Compile the generator using binary crossentropy loss and the Adam optimizer \n",
        "- Train on the data with 3 epochs\n",
        "- Compute the accuracy with model.evaluate\n",
        "- Plot the history of the loss versus the epoch number"
      ]
    },
    {
      "cell_type": "code",
      "metadata": {
        "colab_type": "code",
        "id": "aNYrzga3fjin",
        "outputId": "085c24f6-7fe3-4959-8e74-f36bf0cf0293",
        "colab": {
          "base_uri": "https://localhost:8080/",
          "height": 155
        }
      },
      "source": [
        "from tensorflow.keras.layers import LSTM\n",
        "from tensorflow.keras.layers import Dropout\n",
        "\n",
        "#TODO\n",
        "model = Sequential()\n",
        "model.add(Embedding(5000, 32, input_length=500))\n",
        "model.add(Dropout(0.2))\n",
        "model.add(LSTM(100))\n",
        "model.add(Dropout(0.2))\n",
        "model.add(Dense(1,activation='sigmoid'))\n",
        "\n",
        "model.compile(loss='binary_crossentropy', optimizer='adam', metrics=['accuracy'])\n",
        "\n",
        "history = model.fit(X_train, y_train,epochs=3,)\n",
        "results = model.evaluate(X_test, y_test, batch_size=128)\n",
        "\n",
        "print('test loss, test acc:', results)"
      ],
      "execution_count": 0,
      "outputs": [
        {
          "output_type": "stream",
          "text": [
            "Epoch 1/3\n",
            "782/782 [==============================] - 20s 25ms/step - loss: 0.4669 - accuracy: 0.7721\n",
            "Epoch 2/3\n",
            "782/782 [==============================] - 20s 25ms/step - loss: 0.3036 - accuracy: 0.8764\n",
            "Epoch 3/3\n",
            "782/782 [==============================] - 19s 25ms/step - loss: 0.3242 - accuracy: 0.8626\n",
            "196/196 [==============================] - 3s 13ms/step - loss: 0.3892 - accuracy: 0.8352\n",
            "test loss, test acc: [0.3892463147640228, 0.8352400064468384]\n"
          ],
          "name": "stdout"
        }
      ]
    },
    {
      "cell_type": "code",
      "metadata": {
        "id": "68ORUhSfRjza",
        "colab_type": "code",
        "outputId": "fe1fbb47-6be6-4163-9228-c18a99fa324a",
        "colab": {
          "base_uri": "https://localhost:8080/",
          "height": 281
        }
      },
      "source": [
        "train_loss = history.history['loss']\n",
        "\n",
        "plt.plot(train_loss)\n",
        "plt.title('Training Loss x Epochs')\n",
        "plt.show()"
      ],
      "execution_count": 0,
      "outputs": [
        {
          "output_type": "display_data",
          "data": {
            "image/png": "[encoded data removed]",
            "text/plain": [
              "<Figure size 432x288 with 1 Axes>"
            ]
          },
          "metadata": {
            "tags": [],
            "needs_background": "light"
          }
        }
      ]
    },
    {
      "cell_type": "code",
      "metadata": {
        "id": "qMcYJlGmSE4q",
        "colab_type": "code",
        "colab": {}
      },
      "source": [
        ""
      ],
      "execution_count": 0,
      "outputs": []
    }
  ]
}